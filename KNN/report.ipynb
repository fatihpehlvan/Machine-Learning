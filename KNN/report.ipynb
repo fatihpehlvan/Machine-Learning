{
 "cells": [
  {
   "cell_type": "markdown",
   "id": "33c2dacc",
   "metadata": {},
   "source": [
    "# Hacettepe University\n",
    "### BBM 409 1st ASSIGNMENT\n",
    "\n",
    "\n",
    "#### Name and Surname: Fatih Pehlivan – Göktuğ Ocaklıoğlu\n",
    "#### Identity Number: 21946529 - 2200356841\n",
    "#### Course:  BBM 409\n",
    "\n",
    "#### Due Date: 01.11.2022\n",
    "#### Advisor: Burçak Asal\n",
    "#### Python Version: 3.10.4\n",
    "#### NumPy Version: 1.23.4\n",
    "#### Pandas Version: 1.4.2"
   ]
  },
  {
   "cell_type": "markdown",
   "id": "a3dee5e5",
   "metadata": {},
   "source": [
    "Import the libraries"
   ]
  },
  {
   "cell_type": "code",
   "execution_count": 1,
   "id": "ca18680f",
   "metadata": {
    "pycharm": {
     "name": "#%%\n"
    }
   },
   "outputs": [],
   "source": [
    "import sys\n",
    "# Import libraries\n",
    "import copy\n",
    "\n",
    "import numpy as np\n",
    "import pandas as pd"
   ]
  },
  {
   "cell_type": "markdown",
   "id": "8f53352a",
   "metadata": {
    "pycharm": {
     "name": "#%% md\n"
    }
   },
   "source": [
    "#### KNN Algorithm Part"
   ]
  },
  {
   "cell_type": "markdown",
   "id": "6994fb6f",
   "metadata": {},
   "source": [
    "Define a class of data set Attributes"
   ]
  },
  {
   "cell_type": "code",
   "execution_count": 2,
   "id": "c99c67e5",
   "metadata": {
    "pycharm": {
     "name": "#%%\n"
    }
   },
   "outputs": [],
   "source": [
    "class Attribute:\n",
    "    def __init__(self, name, distance):\n",
    "        self.name = name\n",
    "        self.distance = distance\n",
    "\n",
    "    def __lt__(self, other):\n",
    "        return self.distance < other.distance\n",
    "\n",
    "    def getName(self):\n",
    "        return self.name\n",
    "\n",
    "    def getDistance(self):\n",
    "        return self.distance\n",
    "\n",
    "    def getWeight(self):\n",
    "        return 1 / self.distance\n",
    "\n",
    "    def __str__(self):\n",
    "        return str(self.name) + \" \" + str(self.distance)"
   ]
  },
  {
   "cell_type": "markdown",
   "id": "ecdd5178",
   "metadata": {},
   "source": [
    "Find max function takes numpy array with length = k value. It determines maximum distance, and it is index. In algorithm change the array element according to these values. If there is equal max values the function determines the first maximum element."
   ]
  },
  {
   "cell_type": "markdown",
   "id": "13e47713",
   "metadata": {
    "pycharm": {
     "name": "#%% md\n"
    }
   },
   "source": [
    "Actually we thought about max heap to decrease the run-time but the numpy array length is maximum 9. So that we used numpy array."
   ]
  },
  {
   "cell_type": "code",
   "execution_count": 3,
   "id": "78c4c10b",
   "metadata": {
    "pycharm": {
     "name": "#%%\n"
    }
   },
   "outputs": [],
   "source": [
    "def find_max(numpy_arr):\n",
    "    \"\"\"\n",
    "    find_max function find the maximum value, and it is index\n",
    "    :param numpy_arr: contains Attribute objects\n",
    "    :return: maximum distance, and it is index\n",
    "    \"\"\"\n",
    "\n",
    "    max = numpy_arr[0]\n",
    "    count = 0\n",
    "    index = 0\n",
    "    for i in numpy_arr:\n",
    "        if i.getDistance() > max.getDistance():\n",
    "            max = i\n",
    "            index = count\n",
    "        count += 1\n",
    "    return max, index"
   ]
  },
  {
   "cell_type": "markdown",
   "id": "09097e17",
   "metadata": {
    "pycharm": {
     "name": "#%% md\n"
    }
   },
   "source": [
    "Determine most weighted or most frequent element in the numpy array. If there is equal frequent or weighted the function returns first most weighted or frequent Attribute. Therefore, this may reduce the prediction truth"
   ]
  },
  {
   "cell_type": "code",
   "execution_count": 4,
   "id": "dbb17fbd",
   "metadata": {
    "pycharm": {
     "name": "#%%\n"
    }
   },
   "outputs": [],
   "source": [
    "def most_frequent(numpy_arr, weighted):\n",
    "    \"\"\"\n",
    "    find the maximum weight of given array's attributes\n",
    "    :param numpy_arr: contains Attribute objects\n",
    "    :param weighted: is a boolean value. Determine the calculation is weighted or not\n",
    "    :return: maximum weight of Attribute object\n",
    "    \"\"\"\n",
    "\n",
    "    dict = {}\n",
    "    for i in numpy_arr:\n",
    "        if dict.get(i.getName()) is None:\n",
    "            if weighted:\n",
    "                dict[i.getName()] = i.getWeight()\n",
    "            else:\n",
    "                dict[i.getName()] = 1\n",
    "        else:\n",
    "            if weighted:\n",
    "                dict[i.getName()] = dict.get(i.getName()) + i.getWeight()\n",
    "            else:\n",
    "                dict[i.getName()] = dict.get(i.getName()) + 1\n",
    "    return max(dict, key=dict.get)"
   ]
  },
  {
   "cell_type": "markdown",
   "id": "18933913",
   "metadata": {
    "pycharm": {
     "name": "#%% md\n"
    }
   },
   "source": [
    "This function for part 2, if the algorithm weighted it calculates (Σ (1/weight) / Σ (weight * value)) if not, takes the average of values."
   ]
  },
  {
   "cell_type": "code",
   "execution_count": 5,
   "id": "2dfb9e3c",
   "metadata": {
    "pycharm": {
     "name": "#%%\n"
    }
   },
   "outputs": [],
   "source": [
    "def most_frequentP2(numpy_arr, weighted):\n",
    "    \"\"\"\n",
    "    find average or weighted average of the array\n",
    "    :param numpy_arr: contains Attribute objects\n",
    "    :param weighted: is a boolean value. Determine the calculation is weighted or not\n",
    "    :return: average or weighted average of the array\n",
    "    \"\"\"\n",
    "\n",
    "    if weighted:\n",
    "        numerator = 0\n",
    "        denominator = 0\n",
    "        for i in numpy_arr:\n",
    "            numerator += (i.getName() * i.getWeight())\n",
    "            denominator += i.getWeight()\n",
    "        if denominator == 0:\n",
    "            denominator = 0.00001\n",
    "        return numerator / denominator\n",
    "    else:\n",
    "        sum = 0\n",
    "        for i in numpy_arr:\n",
    "            sum += i.getName()\n",
    "        return sum / len(numpy_arr)"
   ]
  },
  {
   "cell_type": "markdown",
   "id": "a33fa55f",
   "metadata": {
    "pycharm": {
     "name": "#%% md\n"
    }
   },
   "source": [
    "This knn_algorithm is for part1.\n",
    "When calculate k = 9 it is easy to calculate k = 7. I sorted the Attribute array according to distances the romeve last 2 elements to calculate k = 7 and so on.\n",
    "When calculate k = 9, it is easy to calculate their weighted and unweighted situations and so on.\n",
    "\n",
    "I used euclidean distance for this assignment."
   ]
  },
  {
   "cell_type": "code",
   "execution_count": 6,
   "id": "42c5195d",
   "metadata": {
    "pycharm": {
     "name": "#%%\n"
    }
   },
   "outputs": [],
   "source": [
    "def knn_algorithm(X_train, y_train, X_test):\n",
    "    \"\"\"\n",
    "    knn_algorithm function calculate 9, 7, 5, 3, 1 nearest neighbor for weighted and unweighted according to given params\n",
    "    :param X_train: is a numpy array, this is train attribute values\n",
    "    :param y_train: is a numpy array, this is train results\n",
    "    :param X_test: is a numpy array, this is test attribute values\n",
    "    :return: a numpy_array list, for k = 9, 7, 5, 3 ,1 respectively, unweighted and weighted respectively.\n",
    "    \"\"\"\n",
    "    # initialize the min numbers array for the maximum value by using sys.maxsize\n",
    "    min_numbers = np.full((9), Attribute(\"\", sys.maxsize), dtype=Attribute)\n",
    "    returnArray = np.zeros((10, len(X_test)), dtype='<U6')\n",
    "    arrayCounter = 0\n",
    "    for i in X_test:\n",
    "        for k in range(9):\n",
    "            min_numbers[k] = Attribute(\"\", sys.maxsize)\n",
    "        max_num = min_numbers[0]\n",
    "        index = 0\n",
    "        count = 0\n",
    "        for j in X_train:\n",
    "            # calculete the distance\n",
    "            arr = np.subtract(i, j)\n",
    "            arr = np.power(arr, 2)\n",
    "            sum = np.sum(arr) ** 0.5\n",
    "            if sum < max_num.getDistance():\n",
    "                min_numbers[index] = Attribute(y_train[count], sum)\n",
    "            max_num, index = find_max(min_numbers)\n",
    "            count += 1\n",
    "        np.sort(min_numbers)\n",
    "        returnArray[0][arrayCounter] = most_frequent(min_numbers, False)\n",
    "        returnArray[1][arrayCounter] = most_frequent(min_numbers[: -2], False)\n",
    "        returnArray[2][arrayCounter] = most_frequent(min_numbers[: -4], False)\n",
    "        returnArray[3][arrayCounter] = most_frequent(min_numbers[: -6], False)\n",
    "        returnArray[4][arrayCounter] = most_frequent(min_numbers[: -8], False)\n",
    "        returnArray[5][arrayCounter] = most_frequent(min_numbers, True)\n",
    "        returnArray[6][arrayCounter] = most_frequent(min_numbers[: -2], True)\n",
    "        returnArray[7][arrayCounter] = most_frequent(min_numbers[: -4], True)\n",
    "        returnArray[8][arrayCounter] = most_frequent(min_numbers[: -6], True)\n",
    "        returnArray[9][arrayCounter] = most_frequent(min_numbers[: -8], True)\n",
    "\n",
    "        arrayCounter += 1\n",
    "\n",
    "    return returnArray\n"
   ]
  },
  {
   "cell_type": "markdown",
   "id": "b13a2640",
   "metadata": {
    "pycharm": {
     "name": "#%% md\n"
    }
   },
   "source": [
    "This knn function for part2. It is similar to part1's function.\n",
    "Only difference is returns 2 arrays for heating and cooling and the other difference is calculating the estimation. (puts the arrays average or weighted average)"
   ]
  },
  {
   "cell_type": "code",
   "execution_count": 7,
   "id": "3b65d39d",
   "metadata": {
    "pycharm": {
     "name": "#%%\n"
    }
   },
   "outputs": [],
   "source": [
    "def knn_algorithmP2(X_train, y_train_heating, y_traing_cooling, X_test):\n",
    "    \"\"\"\n",
    "    knn_algorithm function calculate 9, 7, 5, 3, 1 nearest neighbor for weighted and unweighted according to given params\n",
    "    :param X_train: is a numpy array, this is train attribute values\n",
    "    :param y_train: is a numpy array, this is train results\n",
    "    :param X_test: is a numpy array, this is test attribute values\n",
    "    :return: 2 numpy_array lists, for k = 9, 7, 5, 3 ,1 respectively, unweighted and weighted respectively.\n",
    "    \"\"\"\n",
    "    # initialize the min numbers array for the maximum value by using sys.maxsize\n",
    "    min_numbers_heating = np.full((9), Attribute(0, sys.maxsize), dtype=Attribute)\n",
    "    min_numbers_cooling = np.full((9), Attribute(0, sys.maxsize), dtype=Attribute)\n",
    "    returnArrayHeating = np.zeros((10, len(X_test)), dtype=float)\n",
    "    returnArrayCooling = np.zeros((10, len(X_test)), dtype=float)\n",
    "    arrayCounter = 0\n",
    "    for i in X_test:\n",
    "        for k in range(9):\n",
    "            min_numbers_heating[k] = Attribute(0, sys.maxsize)\n",
    "            min_numbers_cooling[k] = Attribute(0, sys.maxsize)\n",
    "        max_num_heating = min_numbers_heating[0]\n",
    "        index_heating = 0\n",
    "        max_num_cooling = min_numbers_cooling[0]\n",
    "        index_cooling = 0\n",
    "        count = 0\n",
    "        for j in X_train:\n",
    "            # calculete the distance\n",
    "            arr = np.subtract(i, j)\n",
    "            arr = np.power(arr, 2)\n",
    "            sum = np.sum(arr) ** 0.5\n",
    "            if sum < max_num_heating.getDistance():\n",
    "                min_numbers_heating[index_heating] = Attribute(y_train_heating[count], sum)\n",
    "            max_num_heating, index_heating = find_max(min_numbers_heating)\n",
    "            if sum < max_num_cooling.getDistance():\n",
    "                min_numbers_cooling[index_cooling] = Attribute(y_traing_cooling[count], sum)\n",
    "            max_num_cooling, index_cooling = find_max(min_numbers_cooling)\n",
    "            count += 1\n",
    "\n",
    "        np.sort(min_numbers_heating)\n",
    "        np.sort(min_numbers_cooling)\n",
    "        returnArrayHeating[0][arrayCounter] = most_frequentP2(min_numbers_heating, False)\n",
    "        returnArrayHeating[1][arrayCounter] = most_frequentP2(min_numbers_heating[: -2], False)\n",
    "        returnArrayHeating[2][arrayCounter] = most_frequentP2(min_numbers_heating[: -4], False)\n",
    "        returnArrayHeating[3][arrayCounter] = most_frequentP2(min_numbers_heating[: -6], False)\n",
    "        returnArrayHeating[4][arrayCounter] = most_frequentP2(min_numbers_heating[: -8], False)\n",
    "        returnArrayHeating[5][arrayCounter] = most_frequentP2(min_numbers_heating, True)\n",
    "        returnArrayHeating[6][arrayCounter] = most_frequentP2(min_numbers_heating[: -2], True)\n",
    "        returnArrayHeating[7][arrayCounter] = most_frequentP2(min_numbers_heating[: -4], True)\n",
    "        returnArrayHeating[8][arrayCounter] = most_frequentP2(min_numbers_heating[: -6], True)\n",
    "        returnArrayHeating[9][arrayCounter] = most_frequentP2(min_numbers_heating[: -8], True)\n",
    "\n",
    "        returnArrayCooling[0][arrayCounter] = most_frequentP2(min_numbers_cooling, False)\n",
    "        returnArrayCooling[1][arrayCounter] = most_frequentP2(min_numbers_cooling[: -2], False)\n",
    "        returnArrayCooling[2][arrayCounter] = most_frequentP2(min_numbers_cooling[: -4], False)\n",
    "        returnArrayCooling[3][arrayCounter] = most_frequentP2(min_numbers_cooling[: -6], False)\n",
    "        returnArrayCooling[4][arrayCounter] = most_frequentP2(min_numbers_cooling[: -8], False)\n",
    "        returnArrayCooling[5][arrayCounter] = most_frequentP2(min_numbers_cooling, True)\n",
    "        returnArrayCooling[6][arrayCounter] = most_frequentP2(min_numbers_cooling[: -2], True)\n",
    "        returnArrayCooling[7][arrayCounter] = most_frequentP2(min_numbers_cooling[: -4], True)\n",
    "        returnArrayCooling[8][arrayCounter] = most_frequentP2(min_numbers_cooling[: -6], True)\n",
    "        returnArrayCooling[9][arrayCounter] = most_frequentP2(min_numbers_cooling[: -8], True)\n",
    "\n",
    "        arrayCounter += 1\n",
    "    return returnArrayHeating, returnArrayCooling"
   ]
  },
  {
   "cell_type": "markdown",
   "id": "732d27dd",
   "metadata": {
    "pycharm": {
     "name": "#%% md\n"
    }
   },
   "source": [
    "#### Read the CSV file"
   ]
  },
  {
   "cell_type": "markdown",
   "id": "1fab0e44",
   "metadata": {
    "pycharm": {
     "name": "#%% md\n"
    }
   },
   "source": [
    "We used numpy array for reading the data. Then we remove thefirst row of the dataset because it is unnecessary for calculation."
   ]
  },
  {
   "cell_type": "code",
   "execution_count": 8,
   "id": "28c84434",
   "metadata": {
    "pycharm": {
     "name": "#%%\n"
    }
   },
   "outputs": [],
   "source": [
    "def read_csv(filename):\n",
    "\n",
    "    \"\"\"\n",
    "    read the file and make it numpy array\n",
    "    :param filename: is string of file path\n",
    "    :return: numpy array\n",
    "    \"\"\"\n",
    "\n",
    "    arr = np.loadtxt(filename, delimiter=\",\", dtype=str,  quotechar='\"', )[1::, ::]\n",
    "    return arr\n"
   ]
  },
  {
   "cell_type": "markdown",
   "id": "d8a95c0a",
   "metadata": {
    "pycharm": {
     "name": "#%% md\n"
    }
   },
   "source": [
    "#### Shuffle and split the data to data and results"
   ]
  },
  {
   "cell_type": "markdown",
   "id": "226a7e54",
   "metadata": {
    "pycharm": {
     "name": "#%% md\n"
    }
   },
   "source": [
    "This shuffle function for part 1. We used sets for shuffling the data. Because sets generate random order for \"string\" indexes. However, the function cannot shuffle a data multiple times. If you want to shuffle data to take another order you have to restart the program.\n",
    "I convert the data types attributes to float-64"
   ]
  },
  {
   "cell_type": "code",
   "execution_count": 9,
   "id": "b5894516",
   "metadata": {
    "pycharm": {
     "name": "#%%\n"
    }
   },
   "outputs": [],
   "source": [
    "def shuffle(data):\n",
    "\n",
    "    \"\"\"\n",
    "    shuffles the given data\n",
    "    :param data: is a numpy array\n",
    "    :return: shuffled data indexes, shuffled data attributes and shuffled data results\n",
    "    \"\"\"\n",
    "\n",
    "    shuffled_data = np.zeros((10000, 62), dtype='<U116')\n",
    "\n",
    "    mySet = set({})\n",
    "    for i in range(len(data)):\n",
    "        mySet.add(str(i))\n",
    "    count = 0\n",
    "\n",
    "    for i in mySet:\n",
    "        shuffled_data[count] = np.copy(data[int(i)])\n",
    "        count += 1\n",
    "\n",
    "    return shuffled_data[:, 0], shuffled_data[:, 1:-1].astype('float64'), shuffled_data[:, -1]"
   ]
  },
  {
   "cell_type": "markdown",
   "id": "2284f037",
   "metadata": {
    "pycharm": {
     "name": "#%% md\n"
    }
   },
   "source": [
    "This shuffle function for part 2. It is same as the for part 1.\n",
    "Only difference is split the data 3 parts. Attributes data, heating data and cooling data and convert the all data to float-64."
   ]
  },
  {
   "cell_type": "code",
   "execution_count": 10,
   "id": "425f7b8a",
   "metadata": {
    "pycharm": {
     "name": "#%%\n"
    }
   },
   "outputs": [],
   "source": [
    "def shuffleP2 (data):\n",
    "    \"\"\"\n",
    "    shuffles the given data\n",
    "    :param data:\n",
    "    :return attribute data, heating result data, cooling result data:\n",
    "    \"\"\"\n",
    "    shuffled_data = np.zeros((768, 10), dtype=float)\n",
    "\n",
    "    sum = set({})\n",
    "    for i in range(len(data)):\n",
    "        sum.add(str(i))\n",
    "    count = 0\n",
    "    for i in sum:\n",
    "        shuffled_data[count] = np.copy(data[int(i)])\n",
    "        count += 1\n",
    "    return shuffled_data[:, :-2].astype('float64'), shuffled_data[:, -2].astype('float64'), shuffled_data[:, -1].astype('float64')\n"
   ]
  },
  {
   "cell_type": "markdown",
   "id": "80039230",
   "metadata": {},
   "source": [
    "#### Function.py File"
   ]
  },
  {
   "cell_type": "markdown",
   "id": "9eacca73",
   "metadata": {},
   "source": [
    "Funtion.py includes functions that normalization and calculate performance metric (accuracy, precision, recall) for Part1"
   ]
  },
  {
   "cell_type": "code",
   "execution_count": 11,
   "id": "00d480b8",
   "metadata": {},
   "outputs": [],
   "source": [
    "def findPerformanceMetric(prediction_array, original_array):\n",
    "    \"\"\"\"\n",
    "    findPerformanceMetric function calculate accuracy, precision and recall of your prediction array\n",
    "    :param prediction_array: is a array, this is prediction value\n",
    "    :param original_array: is a array, this is truth value\n",
    "    :return: accuracy, average of precision  and average of recall\n",
    "    \"\"\"\n",
    "    personality_list=np.unique(original_array)\n",
    "    size = np.size(personality_list)\n",
    "    cross_table = pd.DataFrame(data=np.zeros((size, size)), index=personality_list,\n",
    "                               columns=personality_list,dtype=int)\n",
    "    for i in range(np.size(prediction_array)):\n",
    "        cross_table[original_array[i]][prediction_array[i]] +=1\n",
    "    X = cross_table.values\n",
    "    accuracy = round((np.sum(X.diagonal()) / np.sum(X)),3)\n",
    "    precision = np.round((X.diagonal() / np.sum(X,axis=1)),decimals=3)\n",
    "    recall = np.round((X.diagonal() / np.sum(X,axis=0)),decimals=3)\n",
    "    cross_table['Precision'] = precision\n",
    "    cross_table['Recall'] = recall\n",
    "    cross_table['Accuracy'] = accuracy\n",
    "    mean_precision = round(precision.mean(),3)\n",
    "    mean_recall = round(recall.mean(),3)\n",
    "    return accuracy, mean_precision, mean_recall, cross_table"
   ]
  },
  {
   "attachments": {
    "Ekran%20Resmi%202022-11-01%2014.21.24.png": {
     "image/png": "[encoded data removed]"
    }
   },
   "cell_type": "markdown",
   "id": "8f686a3f",
   "metadata": {},
   "source": [
    "For example for cross_table:\n",
    "![Ekran%20Resmi%202022-11-01%2014.21.24.png](attachment:Ekran%20Resmi%202022-11-01%2014.21.24.png)"
   ]
  },
  {
   "cell_type": "code",
   "execution_count": 12,
   "id": "0b396d32",
   "metadata": {},
   "outputs": [],
   "source": [
    "def normalization(feature_array):\n",
    "    \"\"\"\n",
    "    normalization function rescale each feature between (0-1) range\n",
    "    :param feature_array:\n",
    "    :return: normalization of feature array\n",
    "    \"\"\"\n",
    "    feature_array = np.array(feature_array)\n",
    "    coulumn_min=feature_array.min(axis=0)\n",
    "    coulumn_max=feature_array.max(axis=0)\n",
    "    feature_array=(feature_array-coulumn_min)/(coulumn_max-coulumn_min)\n",
    "    return feature_array"
   ]
  },
  {
   "cell_type": "markdown",
   "id": "e4da5d1a",
   "metadata": {},
   "source": [
    "# PART 1: Personality Classification"
   ]
  },
  {
   "cell_type": "markdown",
   "id": "a7198c69",
   "metadata": {},
   "source": [
    "In this part of the assignment, we will implement a nearest neighbor algorithm to classify different personality types of people by using 5-fold cross-validaton method. "
   ]
  },
  {
   "cell_type": "raw",
   "id": "c324bde2",
   "metadata": {},
   "source": [
    "Dataset consists of 10.000 samples with 60 feature information and discrete 16 (”Personality” attribute) groundtruth class types."
   ]
  },
  {
   "cell_type": "raw",
   "id": "43e8c786",
   "metadata": {},
   "source": [
    "# Step 1. Read classification data and transform it to the Numpy array collection"
   ]
  },
  {
   "cell_type": "code",
   "execution_count": 13,
   "id": "5c8795b8",
   "metadata": {},
   "outputs": [],
   "source": [
    "data=read_csv(\"subset_16P.csv\")"
   ]
  },
  {
   "cell_type": "code",
   "execution_count": 14,
   "id": "7d03219f",
   "metadata": {},
   "outputs": [
    {
     "data": {
      "text/plain": [
       "array([['35874', '-1', '0', ..., '-1', '0', 'ENTP'],\n",
       "       ['42624', '0', '0', ..., '-3', '2', 'INTP'],\n",
       "       ['55199', '0', '0', ..., '0', '0', 'ESTP'],\n",
       "       ...,\n",
       "       ['46766', '0', '0', ..., '0', '1', 'ENFP'],\n",
       "       ['2050', '0', '0', ..., '0', '1', 'INFJ'],\n",
       "       ['17328', '-1', '1', ..., '1', '1', 'ESTP']], dtype='<U116')"
      ]
     },
     "execution_count": 14,
     "metadata": {},
     "output_type": "execute_result"
    }
   ],
   "source": [
    "data"
   ]
  },
  {
   "cell_type": "markdown",
   "id": "22d316cc",
   "metadata": {
    "pycharm": {
     "name": "#%% md\n"
    }
   },
   "source": [
    "We used python sets for shuffling. When add indexes as a string python sets generate unordered order. So that we can shuffle the data by using python sets."
   ]
  },
  {
   "cell_type": "code",
   "execution_count": 15,
   "id": "1cac023a",
   "metadata": {},
   "outputs": [],
   "source": [
    "# Shuffle\n",
    "shuffled_indexes, shuffled_data, shuffled_result_data = shuffle(data)\n",
    "\n",
    "length_of_data = len(shuffled_data)"
   ]
  },
  {
   "cell_type": "code",
   "execution_count": 16,
   "id": "728114fd",
   "metadata": {},
   "outputs": [],
   "source": [
    "#Result tables\n",
    "accuracy_table=pd.DataFrame(columns=[\"noUnweighted1\",\"noUnweighted3\",\"noUnweighted5\",\"noUnweighted7\",\"noUnweighted9\"\n",
    "                                     ,\"noWeighted1\",\"noWeighted3\",\"noWeighted5\",\"noWeighted7\",\"noWeighted9\"\n",
    "                                     ,\"NormalUnweighted1\",\"NormalUnweighted3\",\"NormalUnweighted5\",\"NormalUnweighted7\",\"NormalUnweighted9\"\n",
    "                                     ,\"NormalWeighted1\",\"NormalWeighted3\",\"NormalWeighted5\",\"NormalWeighted7\",\"NormalWeighted9\"],\n",
    "                            index=[\"Fold1\",\"Fold2\", \"Fold3\", \"Fold4\",\"Fold5\"])\n",
    "\n",
    "recall_table=copy.deepcopy(accuracy_table)\n",
    "precision_table=copy.deepcopy(accuracy_table)"
   ]
  },
  {
   "cell_type": "markdown",
   "id": "0c161d25",
   "metadata": {},
   "source": [
    "Calculation of weighted and unweighted estimates for non-normalized values for fold1 fold2 fold3 fold4 and fold5"
   ]
  },
  {
   "cell_type": "markdown",
   "id": "2d0de504",
   "metadata": {},
   "source": [
    "#### non-Normalized Part"
   ]
  },
  {
   "cell_type": "code",
   "execution_count": 17,
   "id": "6395f38d",
   "metadata": {},
   "outputs": [],
   "source": [
    "sample_error = \"\"\n",
    "sample_expected = \"\"\n",
    "sample_test = np.array((60), dtype='<U116')\n",
    "for i in range(5):\n",
    "    # define start and end indexes for 5 fold\n",
    "    start_index = int(length_of_data * 0.2 * i)\n",
    "    end_index = int(length_of_data * 0.2 * (i + 1))\n",
    "\n",
    "    # define train and test values\n",
    "    X_train = np.concatenate((shuffled_data[0:start_index, :], shuffled_data[end_index:, :]))\n",
    "    y_train = np.concatenate((shuffled_result_data[0:start_index], shuffled_result_data[end_index:]))\n",
    "    X_test = shuffled_data[start_index:end_index, :]\n",
    "    y_test = shuffled_result_data[start_index: end_index]\n",
    "    \n",
    "    # knn_algorithm return a numpy_array list, for k = 9, 7, 5, 3 ,1 respectively\n",
    "    y_predict = knn_algorithm(X_train, y_train, X_test)\n",
    "    for j in range(10):\n",
    "        breaking = False\n",
    "        for k in range(len(y_test)):\n",
    "            if y_predict[j][k] != y_test[k]:\n",
    "                sample_error = y_predict[j][k]\n",
    "                sample_expected = y_test[k]\n",
    "                sample_test = X_test[k]\n",
    "                breaking = True\n",
    "            if breaking:\n",
    "                break\n",
    "                \n",
    "    #result of unweighted part\n",
    "    for j in range(9,0,-2):\n",
    "        # prints the scores\n",
    "        column_name = \"noUnweighted{}\".format(j)\n",
    "        row_name = \"Fold{}\".format(i+1)\n",
    "        accuracy, precision, recall, cross_table = findPerformanceMetric(y_predict[int((9-j)/2)],y_test)\n",
    "        accuracy_table[column_name][row_name] = accuracy\n",
    "        precision_table[column_name][row_name] = precision\n",
    "        recall_table[column_name][row_name] = recall\n",
    "\n",
    "\n",
    "    #result of weighted part\n",
    "    for j in range(9,0,-2):\n",
    "        column_name = \"noWeighted{}\".format(j)\n",
    "        row_name = \"Fold{}\".format(i + 1)\n",
    "        accuracy, precision, recall, cross_table = findPerformanceMetric(y_predict[int((19-j)/2)], y_test)\n",
    "        accuracy_table[column_name][row_name] = accuracy\n",
    "        precision_table[column_name][row_name] = precision\n",
    "        recall_table[column_name][row_name] = recall"
   ]
  },
  {
   "cell_type": "code",
   "execution_count": 18,
   "id": "e9432a72",
   "metadata": {},
   "outputs": [
    {
     "data": {
      "text/plain": [
       "array([ 0.,  0.,  2.,  2., -3.,  1., -1.,  0.,  2., -1.,  0.,  2.,  0.,\n",
       "       -2., -1.,  1., -1.,  1., -3.,  2., -1.,  0.,  0.,  0., -1., -2.,\n",
       "        1.,  0.,  0., -1.,  1.,  1., -2.,  0., -2.,  0., -3.,  0.,  1.,\n",
       "       -2., -2., -1.,  0.,  0., -2.,  0., -1.,  0.,  1.,  0.,  0., -1.,\n",
       "       -1.,  0., -1.,  0.,  0., -2., -2.,  0.])"
      ]
     },
     "execution_count": 18,
     "metadata": {},
     "output_type": "execute_result"
    }
   ],
   "source": [
    "sample_test"
   ]
  },
  {
   "cell_type": "code",
   "execution_count": 19,
   "id": "8c8b452d",
   "metadata": {},
   "outputs": [
    {
     "data": {
      "text/plain": [
       "'ISFP'"
      ]
     },
     "execution_count": 19,
     "metadata": {},
     "output_type": "execute_result"
    }
   ],
   "source": [
    "sample_error"
   ]
  },
  {
   "cell_type": "code",
   "execution_count": 20,
   "id": "ad7741fe",
   "metadata": {},
   "outputs": [
    {
     "data": {
      "text/plain": [
       "'INFP'"
      ]
     },
     "execution_count": 20,
     "metadata": {},
     "output_type": "execute_result"
    }
   ],
   "source": [
    "sample_expected"
   ]
  },
  {
   "cell_type": "markdown",
   "id": "b5bd3753",
   "metadata": {},
   "source": [
    "In this sample, number of nearst neighbor class is more than real results. So that, the result is false."
   ]
  },
  {
   "cell_type": "markdown",
   "id": "b7427876",
   "metadata": {},
   "source": [
    "#### Normalized part"
   ]
  },
  {
   "cell_type": "code",
   "execution_count": 21,
   "id": "8ae756cf",
   "metadata": {},
   "outputs": [],
   "source": [
    "#normalized K-NN Algorithm\n",
    "shuffled_data=normalization(shuffled_data)\n",
    "\n",
    "\n",
    "\n",
    "for i in range(5):\n",
    "    # define start and end indexes for 5 fold\n",
    "    start_index = int(length_of_data * 0.2 * i)\n",
    "    end_index = int(length_of_data * 0.2 * (i + 1))\n",
    "\n",
    "    # define train and test values\n",
    "    X_train = np.concatenate((shuffled_data[0:start_index, :], shuffled_data[end_index:, :]))\n",
    "    y_train = np.concatenate((shuffled_result_data[0:start_index], shuffled_result_data[end_index:]))\n",
    "    X_test = shuffled_data[start_index:end_index, :]\n",
    "    y_test = shuffled_result_data[start_index: end_index]\n",
    "\n",
    "    # knn_algorithm return a numpy_array list, for k = 9, 7, 5, 3 ,1 respectively\n",
    "    y_predict = knn_algorithm(X_train, y_train, X_test)\n",
    "\n",
    "    #result of unweighted\n",
    "    for j in range(9,0,-2):\n",
    "        # prints the scores\n",
    "        column_name = \"NormalUnweighted{}\".format(j)\n",
    "        row_name = \"Fold{}\".format(i + 1)\n",
    "        accuracy, precision, recall, cross_table = findPerformanceMetric(y_predict[int((9-j)/2)],y_test)\n",
    "        accuracy_table[column_name][row_name] = accuracy\n",
    "        precision_table[column_name][row_name] = precision\n",
    "        recall_table[column_name][row_name] = recall\n",
    "\n",
    "    #result of weighted\n",
    "    for j in range(9,0,-2):\n",
    "        # prints the scores\n",
    "        column_name = \"NormalWeighted{}\".format(j)\n",
    "        row_name = \"Fold{}\".format(i + 1)\n",
    "        accuracy, precision, recall, cross_table = findPerformanceMetric(y_predict[int((19-j)/2)],y_test)\n",
    "        accuracy_table[column_name][row_name] = accuracy\n",
    "        precision_table[column_name][row_name] = precision\n",
    "        recall_table[column_name][row_name] = recall"
   ]
  },
  {
   "cell_type": "markdown",
   "id": "4555d5bb",
   "metadata": {},
   "source": [
    "### Output Part:\n",
    "\n",
    "#### nonNormalized Unweighted = noUnweighted\n",
    "#### nonNormalized Weighted = noWeighted\n",
    "#### Normalized Unweighted = NormalUnweighted\n",
    "#### Normalized Weighted = NormalWeighted "
   ]
  },
  {
   "cell_type": "code",
   "execution_count": 22,
   "id": "a94eb76d",
   "metadata": {},
   "outputs": [],
   "source": [
    "mean_accuracy = pd.DataFrame(accuracy_table.mean(axis=0)).T\n",
    "mean_precision = pd.DataFrame(precision_table.mean(axis=0)).T\n",
    "mean_recall=pd.DataFrame(recall_table.mean(axis=0)).T"
   ]
  },
  {
   "cell_type": "code",
   "execution_count": 23,
   "id": "a0fca499",
   "metadata": {},
   "outputs": [
    {
     "data": {
      "text/html": [
       "<div>\n",
       "<style scoped>\n",
       "    .dataframe tbody tr th:only-of-type {\n",
       "        vertical-align: middle;\n",
       "    }\n",
       "\n",
       "    .dataframe tbody tr th {\n",
       "        vertical-align: top;\n",
       "    }\n",
       "\n",
       "    .dataframe thead th {\n",
       "        text-align: right;\n",
       "    }\n",
       "</style>\n",
       "<table border=\"1\" class=\"dataframe\">\n",
       "  <thead>\n",
       "    <tr style=\"text-align: right;\">\n",
       "      <th></th>\n",
       "      <th>noUnweighted1</th>\n",
       "      <th>noUnweighted3</th>\n",
       "      <th>noUnweighted5</th>\n",
       "      <th>noUnweighted7</th>\n",
       "      <th>noUnweighted9</th>\n",
       "      <th>noWeighted1</th>\n",
       "      <th>noWeighted3</th>\n",
       "      <th>noWeighted5</th>\n",
       "      <th>noWeighted7</th>\n",
       "      <th>noWeighted9</th>\n",
       "      <th>NormalUnweighted1</th>\n",
       "      <th>NormalUnweighted3</th>\n",
       "      <th>NormalUnweighted5</th>\n",
       "      <th>NormalUnweighted7</th>\n",
       "      <th>NormalUnweighted9</th>\n",
       "      <th>NormalWeighted1</th>\n",
       "      <th>NormalWeighted3</th>\n",
       "      <th>NormalWeighted5</th>\n",
       "      <th>NormalWeighted7</th>\n",
       "      <th>NormalWeighted9</th>\n",
       "    </tr>\n",
       "  </thead>\n",
       "  <tbody>\n",
       "    <tr>\n",
       "      <th>Fold1</th>\n",
       "      <td>0.961</td>\n",
       "      <td>0.982</td>\n",
       "      <td>0.988</td>\n",
       "      <td>0.99</td>\n",
       "      <td>0.99</td>\n",
       "      <td>0.961</td>\n",
       "      <td>0.983</td>\n",
       "      <td>0.988</td>\n",
       "      <td>0.988</td>\n",
       "      <td>0.99</td>\n",
       "      <td>0.938</td>\n",
       "      <td>0.97</td>\n",
       "      <td>0.982</td>\n",
       "      <td>0.986</td>\n",
       "      <td>0.987</td>\n",
       "      <td>0.938</td>\n",
       "      <td>0.974</td>\n",
       "      <td>0.982</td>\n",
       "      <td>0.986</td>\n",
       "      <td>0.986</td>\n",
       "    </tr>\n",
       "    <tr>\n",
       "      <th>Fold2</th>\n",
       "      <td>0.958</td>\n",
       "      <td>0.982</td>\n",
       "      <td>0.986</td>\n",
       "      <td>0.986</td>\n",
       "      <td>0.986</td>\n",
       "      <td>0.958</td>\n",
       "      <td>0.983</td>\n",
       "      <td>0.986</td>\n",
       "      <td>0.987</td>\n",
       "      <td>0.987</td>\n",
       "      <td>0.922</td>\n",
       "      <td>0.965</td>\n",
       "      <td>0.978</td>\n",
       "      <td>0.983</td>\n",
       "      <td>0.984</td>\n",
       "      <td>0.922</td>\n",
       "      <td>0.97</td>\n",
       "      <td>0.98</td>\n",
       "      <td>0.984</td>\n",
       "      <td>0.984</td>\n",
       "    </tr>\n",
       "    <tr>\n",
       "      <th>Fold3</th>\n",
       "      <td>0.96</td>\n",
       "      <td>0.982</td>\n",
       "      <td>0.984</td>\n",
       "      <td>0.986</td>\n",
       "      <td>0.986</td>\n",
       "      <td>0.96</td>\n",
       "      <td>0.982</td>\n",
       "      <td>0.986</td>\n",
       "      <td>0.986</td>\n",
       "      <td>0.986</td>\n",
       "      <td>0.926</td>\n",
       "      <td>0.97</td>\n",
       "      <td>0.98</td>\n",
       "      <td>0.982</td>\n",
       "      <td>0.983</td>\n",
       "      <td>0.926</td>\n",
       "      <td>0.97</td>\n",
       "      <td>0.981</td>\n",
       "      <td>0.982</td>\n",
       "      <td>0.984</td>\n",
       "    </tr>\n",
       "    <tr>\n",
       "      <th>Fold4</th>\n",
       "      <td>0.956</td>\n",
       "      <td>0.981</td>\n",
       "      <td>0.986</td>\n",
       "      <td>0.988</td>\n",
       "      <td>0.987</td>\n",
       "      <td>0.956</td>\n",
       "      <td>0.982</td>\n",
       "      <td>0.986</td>\n",
       "      <td>0.988</td>\n",
       "      <td>0.988</td>\n",
       "      <td>0.93</td>\n",
       "      <td>0.968</td>\n",
       "      <td>0.982</td>\n",
       "      <td>0.986</td>\n",
       "      <td>0.983</td>\n",
       "      <td>0.93</td>\n",
       "      <td>0.971</td>\n",
       "      <td>0.984</td>\n",
       "      <td>0.985</td>\n",
       "      <td>0.984</td>\n",
       "    </tr>\n",
       "    <tr>\n",
       "      <th>Fold5</th>\n",
       "      <td>0.965</td>\n",
       "      <td>0.985</td>\n",
       "      <td>0.986</td>\n",
       "      <td>0.988</td>\n",
       "      <td>0.989</td>\n",
       "      <td>0.965</td>\n",
       "      <td>0.984</td>\n",
       "      <td>0.986</td>\n",
       "      <td>0.988</td>\n",
       "      <td>0.988</td>\n",
       "      <td>0.93</td>\n",
       "      <td>0.974</td>\n",
       "      <td>0.985</td>\n",
       "      <td>0.988</td>\n",
       "      <td>0.988</td>\n",
       "      <td>0.93</td>\n",
       "      <td>0.976</td>\n",
       "      <td>0.985</td>\n",
       "      <td>0.986</td>\n",
       "      <td>0.986</td>\n",
       "    </tr>\n",
       "  </tbody>\n",
       "</table>\n",
       "</div>"
      ],
      "text/plain": [
       "      noUnweighted1 noUnweighted3 noUnweighted5 noUnweighted7 noUnweighted9  \\\n",
       "Fold1         0.961         0.982         0.988          0.99          0.99   \n",
       "Fold2         0.958         0.982         0.986         0.986         0.986   \n",
       "Fold3          0.96         0.982         0.984         0.986         0.986   \n",
       "Fold4         0.956         0.981         0.986         0.988         0.987   \n",
       "Fold5         0.965         0.985         0.986         0.988         0.989   \n",
       "\n",
       "      noWeighted1 noWeighted3 noWeighted5 noWeighted7 noWeighted9  \\\n",
       "Fold1       0.961       0.983       0.988       0.988        0.99   \n",
       "Fold2       0.958       0.983       0.986       0.987       0.987   \n",
       "Fold3        0.96       0.982       0.986       0.986       0.986   \n",
       "Fold4       0.956       0.982       0.986       0.988       0.988   \n",
       "Fold5       0.965       0.984       0.986       0.988       0.988   \n",
       "\n",
       "      NormalUnweighted1 NormalUnweighted3 NormalUnweighted5 NormalUnweighted7  \\\n",
       "Fold1             0.938              0.97             0.982             0.986   \n",
       "Fold2             0.922             0.965             0.978             0.983   \n",
       "Fold3             0.926              0.97              0.98             0.982   \n",
       "Fold4              0.93             0.968             0.982             0.986   \n",
       "Fold5              0.93             0.974             0.985             0.988   \n",
       "\n",
       "      NormalUnweighted9 NormalWeighted1 NormalWeighted3 NormalWeighted5  \\\n",
       "Fold1             0.987           0.938           0.974           0.982   \n",
       "Fold2             0.984           0.922            0.97            0.98   \n",
       "Fold3             0.983           0.926            0.97           0.981   \n",
       "Fold4             0.983            0.93           0.971           0.984   \n",
       "Fold5             0.988            0.93           0.976           0.985   \n",
       "\n",
       "      NormalWeighted7 NormalWeighted9  \n",
       "Fold1           0.986           0.986  \n",
       "Fold2           0.984           0.984  \n",
       "Fold3           0.982           0.984  \n",
       "Fold4           0.985           0.984  \n",
       "Fold5           0.986           0.986  "
      ]
     },
     "execution_count": 23,
     "metadata": {},
     "output_type": "execute_result"
    }
   ],
   "source": [
    "accuracy_table"
   ]
  },
  {
   "cell_type": "code",
   "execution_count": 24,
   "id": "9a052116",
   "metadata": {},
   "outputs": [],
   "source": [
    "mean_accuracy.rename(index={0:\"mean\"}, inplace=True)"
   ]
  },
  {
   "cell_type": "code",
   "execution_count": 25,
   "id": "7b904ae6",
   "metadata": {},
   "outputs": [
    {
     "data": {
      "text/html": [
       "<div>\n",
       "<style scoped>\n",
       "    .dataframe tbody tr th:only-of-type {\n",
       "        vertical-align: middle;\n",
       "    }\n",
       "\n",
       "    .dataframe tbody tr th {\n",
       "        vertical-align: top;\n",
       "    }\n",
       "\n",
       "    .dataframe thead th {\n",
       "        text-align: right;\n",
       "    }\n",
       "</style>\n",
       "<table border=\"1\" class=\"dataframe\">\n",
       "  <thead>\n",
       "    <tr style=\"text-align: right;\">\n",
       "      <th></th>\n",
       "      <th>noUnweighted1</th>\n",
       "      <th>noUnweighted3</th>\n",
       "      <th>noUnweighted5</th>\n",
       "      <th>noUnweighted7</th>\n",
       "      <th>noUnweighted9</th>\n",
       "      <th>noWeighted1</th>\n",
       "      <th>noWeighted3</th>\n",
       "      <th>noWeighted5</th>\n",
       "      <th>noWeighted7</th>\n",
       "      <th>noWeighted9</th>\n",
       "      <th>NormalUnweighted1</th>\n",
       "      <th>NormalUnweighted3</th>\n",
       "      <th>NormalUnweighted5</th>\n",
       "      <th>NormalUnweighted7</th>\n",
       "      <th>NormalUnweighted9</th>\n",
       "      <th>NormalWeighted1</th>\n",
       "      <th>NormalWeighted3</th>\n",
       "      <th>NormalWeighted5</th>\n",
       "      <th>NormalWeighted7</th>\n",
       "      <th>NormalWeighted9</th>\n",
       "    </tr>\n",
       "  </thead>\n",
       "  <tbody>\n",
       "    <tr>\n",
       "      <th>mean</th>\n",
       "      <td>0.96</td>\n",
       "      <td>0.9824</td>\n",
       "      <td>0.986</td>\n",
       "      <td>0.9876</td>\n",
       "      <td>0.9876</td>\n",
       "      <td>0.96</td>\n",
       "      <td>0.9828</td>\n",
       "      <td>0.9864</td>\n",
       "      <td>0.9874</td>\n",
       "      <td>0.9878</td>\n",
       "      <td>0.9292</td>\n",
       "      <td>0.9694</td>\n",
       "      <td>0.9814</td>\n",
       "      <td>0.985</td>\n",
       "      <td>0.985</td>\n",
       "      <td>0.9292</td>\n",
       "      <td>0.9722</td>\n",
       "      <td>0.9824</td>\n",
       "      <td>0.9846</td>\n",
       "      <td>0.9848</td>\n",
       "    </tr>\n",
       "  </tbody>\n",
       "</table>\n",
       "</div>"
      ],
      "text/plain": [
       "      noUnweighted1  noUnweighted3  noUnweighted5  noUnweighted7  \\\n",
       "mean           0.96         0.9824          0.986         0.9876   \n",
       "\n",
       "      noUnweighted9  noWeighted1  noWeighted3  noWeighted5  noWeighted7  \\\n",
       "mean         0.9876         0.96       0.9828       0.9864       0.9874   \n",
       "\n",
       "      noWeighted9  NormalUnweighted1  NormalUnweighted3  NormalUnweighted5  \\\n",
       "mean       0.9878             0.9292             0.9694             0.9814   \n",
       "\n",
       "      NormalUnweighted7  NormalUnweighted9  NormalWeighted1  NormalWeighted3  \\\n",
       "mean              0.985              0.985           0.9292           0.9722   \n",
       "\n",
       "      NormalWeighted5  NormalWeighted7  NormalWeighted9  \n",
       "mean           0.9824           0.9846           0.9848  "
      ]
     },
     "execution_count": 25,
     "metadata": {},
     "output_type": "execute_result"
    }
   ],
   "source": [
    "mean_accuracy"
   ]
  },
  {
   "cell_type": "markdown",
   "id": "bb9d9c12",
   "metadata": {
    "pycharm": {
     "name": "#%% md\n"
    }
   },
   "source": [
    "As you see above when k value is high, prediction is more true.\n",
    "My knn implementation takes the first element when distances are equal. This might predict false results.\n",
    "When knn algorithm finds equal quantity (for example k = 3 and our knn algorithm found \"ENTP\", \"INTP\", \"ESTP\" our algorithm predicts \"ENTP\" because it is first one.) predicts first one. This might predict false results.\n",
    "So that k = 9 is the best k value for this assignment.\n",
    "\n",
    "Weighted knn algorithm predicts more true results.\n",
    "As we said above when knn algorithm finds equal quantity predicts first one. This might predict false results. However, we can reduce such samples by using weighted knn algorithm. Also, when test sample very close a class but very far other classes, the function predict the closest one's class. It increases the predicton truth (for example k = 3, and our sample very close \"ENTP\" most probably this sample is \"ENTP\", but when we use unweighted knn this predicton may different from \"ENTP\").\n",
    "\n",
    "Normalization and Non-Normalization results are very similar to each other.\n",
    "Attribute ranges very close to each other. If the ranges are highly different normalization predicts more true results."
   ]
  },
  {
   "cell_type": "code",
   "execution_count": 26,
   "id": "b7c27980",
   "metadata": {
    "pycharm": {
     "name": "#%%\n"
    }
   },
   "outputs": [
    {
     "data": {
      "text/html": [
       "<div>\n",
       "<style scoped>\n",
       "    .dataframe tbody tr th:only-of-type {\n",
       "        vertical-align: middle;\n",
       "    }\n",
       "\n",
       "    .dataframe tbody tr th {\n",
       "        vertical-align: top;\n",
       "    }\n",
       "\n",
       "    .dataframe thead th {\n",
       "        text-align: right;\n",
       "    }\n",
       "</style>\n",
       "<table border=\"1\" class=\"dataframe\">\n",
       "  <thead>\n",
       "    <tr style=\"text-align: right;\">\n",
       "      <th></th>\n",
       "      <th>noUnweighted1</th>\n",
       "      <th>noUnweighted3</th>\n",
       "      <th>noUnweighted5</th>\n",
       "      <th>noUnweighted7</th>\n",
       "      <th>noUnweighted9</th>\n",
       "      <th>noWeighted1</th>\n",
       "      <th>noWeighted3</th>\n",
       "      <th>noWeighted5</th>\n",
       "      <th>noWeighted7</th>\n",
       "      <th>noWeighted9</th>\n",
       "      <th>NormalUnweighted1</th>\n",
       "      <th>NormalUnweighted3</th>\n",
       "      <th>NormalUnweighted5</th>\n",
       "      <th>NormalUnweighted7</th>\n",
       "      <th>NormalUnweighted9</th>\n",
       "      <th>NormalWeighted1</th>\n",
       "      <th>NormalWeighted3</th>\n",
       "      <th>NormalWeighted5</th>\n",
       "      <th>NormalWeighted7</th>\n",
       "      <th>NormalWeighted9</th>\n",
       "    </tr>\n",
       "  </thead>\n",
       "  <tbody>\n",
       "    <tr>\n",
       "      <th>Fold1</th>\n",
       "      <td>0.961</td>\n",
       "      <td>0.983</td>\n",
       "      <td>0.987</td>\n",
       "      <td>0.99</td>\n",
       "      <td>0.99</td>\n",
       "      <td>0.961</td>\n",
       "      <td>0.983</td>\n",
       "      <td>0.988</td>\n",
       "      <td>0.989</td>\n",
       "      <td>0.99</td>\n",
       "      <td>0.938</td>\n",
       "      <td>0.97</td>\n",
       "      <td>0.982</td>\n",
       "      <td>0.986</td>\n",
       "      <td>0.987</td>\n",
       "      <td>0.938</td>\n",
       "      <td>0.974</td>\n",
       "      <td>0.983</td>\n",
       "      <td>0.986</td>\n",
       "      <td>0.986</td>\n",
       "    </tr>\n",
       "    <tr>\n",
       "      <th>Fold2</th>\n",
       "      <td>0.959</td>\n",
       "      <td>0.983</td>\n",
       "      <td>0.986</td>\n",
       "      <td>0.986</td>\n",
       "      <td>0.986</td>\n",
       "      <td>0.959</td>\n",
       "      <td>0.983</td>\n",
       "      <td>0.987</td>\n",
       "      <td>0.987</td>\n",
       "      <td>0.987</td>\n",
       "      <td>0.924</td>\n",
       "      <td>0.965</td>\n",
       "      <td>0.978</td>\n",
       "      <td>0.983</td>\n",
       "      <td>0.985</td>\n",
       "      <td>0.924</td>\n",
       "      <td>0.97</td>\n",
       "      <td>0.98</td>\n",
       "      <td>0.985</td>\n",
       "      <td>0.984</td>\n",
       "    </tr>\n",
       "    <tr>\n",
       "      <th>Fold3</th>\n",
       "      <td>0.961</td>\n",
       "      <td>0.983</td>\n",
       "      <td>0.985</td>\n",
       "      <td>0.987</td>\n",
       "      <td>0.986</td>\n",
       "      <td>0.961</td>\n",
       "      <td>0.983</td>\n",
       "      <td>0.986</td>\n",
       "      <td>0.986</td>\n",
       "      <td>0.986</td>\n",
       "      <td>0.927</td>\n",
       "      <td>0.97</td>\n",
       "      <td>0.98</td>\n",
       "      <td>0.983</td>\n",
       "      <td>0.983</td>\n",
       "      <td>0.927</td>\n",
       "      <td>0.972</td>\n",
       "      <td>0.981</td>\n",
       "      <td>0.983</td>\n",
       "      <td>0.984</td>\n",
       "    </tr>\n",
       "    <tr>\n",
       "      <th>Fold4</th>\n",
       "      <td>0.955</td>\n",
       "      <td>0.981</td>\n",
       "      <td>0.986</td>\n",
       "      <td>0.988</td>\n",
       "      <td>0.987</td>\n",
       "      <td>0.955</td>\n",
       "      <td>0.982</td>\n",
       "      <td>0.986</td>\n",
       "      <td>0.988</td>\n",
       "      <td>0.988</td>\n",
       "      <td>0.93</td>\n",
       "      <td>0.968</td>\n",
       "      <td>0.982</td>\n",
       "      <td>0.986</td>\n",
       "      <td>0.983</td>\n",
       "      <td>0.93</td>\n",
       "      <td>0.971</td>\n",
       "      <td>0.985</td>\n",
       "      <td>0.985</td>\n",
       "      <td>0.984</td>\n",
       "    </tr>\n",
       "    <tr>\n",
       "      <th>Fold5</th>\n",
       "      <td>0.965</td>\n",
       "      <td>0.985</td>\n",
       "      <td>0.987</td>\n",
       "      <td>0.989</td>\n",
       "      <td>0.989</td>\n",
       "      <td>0.965</td>\n",
       "      <td>0.984</td>\n",
       "      <td>0.987</td>\n",
       "      <td>0.989</td>\n",
       "      <td>0.989</td>\n",
       "      <td>0.932</td>\n",
       "      <td>0.974</td>\n",
       "      <td>0.985</td>\n",
       "      <td>0.988</td>\n",
       "      <td>0.988</td>\n",
       "      <td>0.932</td>\n",
       "      <td>0.976</td>\n",
       "      <td>0.985</td>\n",
       "      <td>0.987</td>\n",
       "      <td>0.987</td>\n",
       "    </tr>\n",
       "  </tbody>\n",
       "</table>\n",
       "</div>"
      ],
      "text/plain": [
       "      noUnweighted1 noUnweighted3 noUnweighted5 noUnweighted7 noUnweighted9  \\\n",
       "Fold1         0.961         0.983         0.987          0.99          0.99   \n",
       "Fold2         0.959         0.983         0.986         0.986         0.986   \n",
       "Fold3         0.961         0.983         0.985         0.987         0.986   \n",
       "Fold4         0.955         0.981         0.986         0.988         0.987   \n",
       "Fold5         0.965         0.985         0.987         0.989         0.989   \n",
       "\n",
       "      noWeighted1 noWeighted3 noWeighted5 noWeighted7 noWeighted9  \\\n",
       "Fold1       0.961       0.983       0.988       0.989        0.99   \n",
       "Fold2       0.959       0.983       0.987       0.987       0.987   \n",
       "Fold3       0.961       0.983       0.986       0.986       0.986   \n",
       "Fold4       0.955       0.982       0.986       0.988       0.988   \n",
       "Fold5       0.965       0.984       0.987       0.989       0.989   \n",
       "\n",
       "      NormalUnweighted1 NormalUnweighted3 NormalUnweighted5 NormalUnweighted7  \\\n",
       "Fold1             0.938              0.97             0.982             0.986   \n",
       "Fold2             0.924             0.965             0.978             0.983   \n",
       "Fold3             0.927              0.97              0.98             0.983   \n",
       "Fold4              0.93             0.968             0.982             0.986   \n",
       "Fold5             0.932             0.974             0.985             0.988   \n",
       "\n",
       "      NormalUnweighted9 NormalWeighted1 NormalWeighted3 NormalWeighted5  \\\n",
       "Fold1             0.987           0.938           0.974           0.983   \n",
       "Fold2             0.985           0.924            0.97            0.98   \n",
       "Fold3             0.983           0.927           0.972           0.981   \n",
       "Fold4             0.983            0.93           0.971           0.985   \n",
       "Fold5             0.988           0.932           0.976           0.985   \n",
       "\n",
       "      NormalWeighted7 NormalWeighted9  \n",
       "Fold1           0.986           0.986  \n",
       "Fold2           0.985           0.984  \n",
       "Fold3           0.983           0.984  \n",
       "Fold4           0.985           0.984  \n",
       "Fold5           0.987           0.987  "
      ]
     },
     "execution_count": 26,
     "metadata": {},
     "output_type": "execute_result"
    }
   ],
   "source": [
    "precision_table"
   ]
  },
  {
   "cell_type": "code",
   "execution_count": 27,
   "id": "d068caca",
   "metadata": {
    "pycharm": {
     "name": "#%%\n"
    }
   },
   "outputs": [
    {
     "data": {
      "text/html": [
       "<div>\n",
       "<style scoped>\n",
       "    .dataframe tbody tr th:only-of-type {\n",
       "        vertical-align: middle;\n",
       "    }\n",
       "\n",
       "    .dataframe tbody tr th {\n",
       "        vertical-align: top;\n",
       "    }\n",
       "\n",
       "    .dataframe thead th {\n",
       "        text-align: right;\n",
       "    }\n",
       "</style>\n",
       "<table border=\"1\" class=\"dataframe\">\n",
       "  <thead>\n",
       "    <tr style=\"text-align: right;\">\n",
       "      <th></th>\n",
       "      <th>noUnweighted1</th>\n",
       "      <th>noUnweighted3</th>\n",
       "      <th>noUnweighted5</th>\n",
       "      <th>noUnweighted7</th>\n",
       "      <th>noUnweighted9</th>\n",
       "      <th>noWeighted1</th>\n",
       "      <th>noWeighted3</th>\n",
       "      <th>noWeighted5</th>\n",
       "      <th>noWeighted7</th>\n",
       "      <th>noWeighted9</th>\n",
       "      <th>NormalUnweighted1</th>\n",
       "      <th>NormalUnweighted3</th>\n",
       "      <th>NormalUnweighted5</th>\n",
       "      <th>NormalUnweighted7</th>\n",
       "      <th>NormalUnweighted9</th>\n",
       "      <th>NormalWeighted1</th>\n",
       "      <th>NormalWeighted3</th>\n",
       "      <th>NormalWeighted5</th>\n",
       "      <th>NormalWeighted7</th>\n",
       "      <th>NormalWeighted9</th>\n",
       "    </tr>\n",
       "  </thead>\n",
       "  <tbody>\n",
       "    <tr>\n",
       "      <th>mean</th>\n",
       "      <td>0.9602</td>\n",
       "      <td>0.983</td>\n",
       "      <td>0.9862</td>\n",
       "      <td>0.988</td>\n",
       "      <td>0.9876</td>\n",
       "      <td>0.9602</td>\n",
       "      <td>0.983</td>\n",
       "      <td>0.9868</td>\n",
       "      <td>0.9878</td>\n",
       "      <td>0.988</td>\n",
       "      <td>0.9302</td>\n",
       "      <td>0.9694</td>\n",
       "      <td>0.9814</td>\n",
       "      <td>0.9852</td>\n",
       "      <td>0.9852</td>\n",
       "      <td>0.9302</td>\n",
       "      <td>0.9726</td>\n",
       "      <td>0.9828</td>\n",
       "      <td>0.9852</td>\n",
       "      <td>0.985</td>\n",
       "    </tr>\n",
       "  </tbody>\n",
       "</table>\n",
       "</div>"
      ],
      "text/plain": [
       "      noUnweighted1  noUnweighted3  noUnweighted5  noUnweighted7  \\\n",
       "mean         0.9602          0.983         0.9862          0.988   \n",
       "\n",
       "      noUnweighted9  noWeighted1  noWeighted3  noWeighted5  noWeighted7  \\\n",
       "mean         0.9876       0.9602        0.983       0.9868       0.9878   \n",
       "\n",
       "      noWeighted9  NormalUnweighted1  NormalUnweighted3  NormalUnweighted5  \\\n",
       "mean        0.988             0.9302             0.9694             0.9814   \n",
       "\n",
       "      NormalUnweighted7  NormalUnweighted9  NormalWeighted1  NormalWeighted3  \\\n",
       "mean             0.9852             0.9852           0.9302           0.9726   \n",
       "\n",
       "      NormalWeighted5  NormalWeighted7  NormalWeighted9  \n",
       "mean           0.9828           0.9852            0.985  "
      ]
     },
     "execution_count": 27,
     "metadata": {},
     "output_type": "execute_result"
    }
   ],
   "source": [
    "mean_precision.rename(index={0:\"mean\"}, inplace=True)\n",
    "mean_precision"
   ]
  },
  {
   "cell_type": "code",
   "execution_count": 28,
   "id": "ba869bf4",
   "metadata": {
    "pycharm": {
     "name": "#%%\n"
    }
   },
   "outputs": [
    {
     "data": {
      "text/html": [
       "<div>\n",
       "<style scoped>\n",
       "    .dataframe tbody tr th:only-of-type {\n",
       "        vertical-align: middle;\n",
       "    }\n",
       "\n",
       "    .dataframe tbody tr th {\n",
       "        vertical-align: top;\n",
       "    }\n",
       "\n",
       "    .dataframe thead th {\n",
       "        text-align: right;\n",
       "    }\n",
       "</style>\n",
       "<table border=\"1\" class=\"dataframe\">\n",
       "  <thead>\n",
       "    <tr style=\"text-align: right;\">\n",
       "      <th></th>\n",
       "      <th>noUnweighted1</th>\n",
       "      <th>noUnweighted3</th>\n",
       "      <th>noUnweighted5</th>\n",
       "      <th>noUnweighted7</th>\n",
       "      <th>noUnweighted9</th>\n",
       "      <th>noWeighted1</th>\n",
       "      <th>noWeighted3</th>\n",
       "      <th>noWeighted5</th>\n",
       "      <th>noWeighted7</th>\n",
       "      <th>noWeighted9</th>\n",
       "      <th>NormalUnweighted1</th>\n",
       "      <th>NormalUnweighted3</th>\n",
       "      <th>NormalUnweighted5</th>\n",
       "      <th>NormalUnweighted7</th>\n",
       "      <th>NormalUnweighted9</th>\n",
       "      <th>NormalWeighted1</th>\n",
       "      <th>NormalWeighted3</th>\n",
       "      <th>NormalWeighted5</th>\n",
       "      <th>NormalWeighted7</th>\n",
       "      <th>NormalWeighted9</th>\n",
       "    </tr>\n",
       "  </thead>\n",
       "  <tbody>\n",
       "    <tr>\n",
       "      <th>Fold1</th>\n",
       "      <td>0.961</td>\n",
       "      <td>0.983</td>\n",
       "      <td>0.988</td>\n",
       "      <td>0.99</td>\n",
       "      <td>0.99</td>\n",
       "      <td>0.961</td>\n",
       "      <td>0.983</td>\n",
       "      <td>0.989</td>\n",
       "      <td>0.989</td>\n",
       "      <td>0.99</td>\n",
       "      <td>0.938</td>\n",
       "      <td>0.97</td>\n",
       "      <td>0.982</td>\n",
       "      <td>0.986</td>\n",
       "      <td>0.987</td>\n",
       "      <td>0.938</td>\n",
       "      <td>0.975</td>\n",
       "      <td>0.983</td>\n",
       "      <td>0.987</td>\n",
       "      <td>0.987</td>\n",
       "    </tr>\n",
       "    <tr>\n",
       "      <th>Fold2</th>\n",
       "      <td>0.958</td>\n",
       "      <td>0.982</td>\n",
       "      <td>0.986</td>\n",
       "      <td>0.986</td>\n",
       "      <td>0.986</td>\n",
       "      <td>0.958</td>\n",
       "      <td>0.983</td>\n",
       "      <td>0.986</td>\n",
       "      <td>0.987</td>\n",
       "      <td>0.987</td>\n",
       "      <td>0.923</td>\n",
       "      <td>0.965</td>\n",
       "      <td>0.978</td>\n",
       "      <td>0.983</td>\n",
       "      <td>0.985</td>\n",
       "      <td>0.923</td>\n",
       "      <td>0.97</td>\n",
       "      <td>0.98</td>\n",
       "      <td>0.985</td>\n",
       "      <td>0.984</td>\n",
       "    </tr>\n",
       "    <tr>\n",
       "      <th>Fold3</th>\n",
       "      <td>0.96</td>\n",
       "      <td>0.983</td>\n",
       "      <td>0.985</td>\n",
       "      <td>0.987</td>\n",
       "      <td>0.986</td>\n",
       "      <td>0.96</td>\n",
       "      <td>0.983</td>\n",
       "      <td>0.986</td>\n",
       "      <td>0.986</td>\n",
       "      <td>0.986</td>\n",
       "      <td>0.926</td>\n",
       "      <td>0.97</td>\n",
       "      <td>0.98</td>\n",
       "      <td>0.983</td>\n",
       "      <td>0.983</td>\n",
       "      <td>0.926</td>\n",
       "      <td>0.971</td>\n",
       "      <td>0.982</td>\n",
       "      <td>0.983</td>\n",
       "      <td>0.984</td>\n",
       "    </tr>\n",
       "    <tr>\n",
       "      <th>Fold4</th>\n",
       "      <td>0.956</td>\n",
       "      <td>0.981</td>\n",
       "      <td>0.987</td>\n",
       "      <td>0.988</td>\n",
       "      <td>0.987</td>\n",
       "      <td>0.956</td>\n",
       "      <td>0.982</td>\n",
       "      <td>0.987</td>\n",
       "      <td>0.988</td>\n",
       "      <td>0.988</td>\n",
       "      <td>0.931</td>\n",
       "      <td>0.968</td>\n",
       "      <td>0.982</td>\n",
       "      <td>0.986</td>\n",
       "      <td>0.983</td>\n",
       "      <td>0.931</td>\n",
       "      <td>0.971</td>\n",
       "      <td>0.984</td>\n",
       "      <td>0.985</td>\n",
       "      <td>0.983</td>\n",
       "    </tr>\n",
       "    <tr>\n",
       "      <th>Fold5</th>\n",
       "      <td>0.965</td>\n",
       "      <td>0.985</td>\n",
       "      <td>0.987</td>\n",
       "      <td>0.989</td>\n",
       "      <td>0.989</td>\n",
       "      <td>0.965</td>\n",
       "      <td>0.984</td>\n",
       "      <td>0.987</td>\n",
       "      <td>0.989</td>\n",
       "      <td>0.989</td>\n",
       "      <td>0.93</td>\n",
       "      <td>0.974</td>\n",
       "      <td>0.985</td>\n",
       "      <td>0.988</td>\n",
       "      <td>0.988</td>\n",
       "      <td>0.93</td>\n",
       "      <td>0.976</td>\n",
       "      <td>0.985</td>\n",
       "      <td>0.987</td>\n",
       "      <td>0.987</td>\n",
       "    </tr>\n",
       "  </tbody>\n",
       "</table>\n",
       "</div>"
      ],
      "text/plain": [
       "      noUnweighted1 noUnweighted3 noUnweighted5 noUnweighted7 noUnweighted9  \\\n",
       "Fold1         0.961         0.983         0.988          0.99          0.99   \n",
       "Fold2         0.958         0.982         0.986         0.986         0.986   \n",
       "Fold3          0.96         0.983         0.985         0.987         0.986   \n",
       "Fold4         0.956         0.981         0.987         0.988         0.987   \n",
       "Fold5         0.965         0.985         0.987         0.989         0.989   \n",
       "\n",
       "      noWeighted1 noWeighted3 noWeighted5 noWeighted7 noWeighted9  \\\n",
       "Fold1       0.961       0.983       0.989       0.989        0.99   \n",
       "Fold2       0.958       0.983       0.986       0.987       0.987   \n",
       "Fold3        0.96       0.983       0.986       0.986       0.986   \n",
       "Fold4       0.956       0.982       0.987       0.988       0.988   \n",
       "Fold5       0.965       0.984       0.987       0.989       0.989   \n",
       "\n",
       "      NormalUnweighted1 NormalUnweighted3 NormalUnweighted5 NormalUnweighted7  \\\n",
       "Fold1             0.938              0.97             0.982             0.986   \n",
       "Fold2             0.923             0.965             0.978             0.983   \n",
       "Fold3             0.926              0.97              0.98             0.983   \n",
       "Fold4             0.931             0.968             0.982             0.986   \n",
       "Fold5              0.93             0.974             0.985             0.988   \n",
       "\n",
       "      NormalUnweighted9 NormalWeighted1 NormalWeighted3 NormalWeighted5  \\\n",
       "Fold1             0.987           0.938           0.975           0.983   \n",
       "Fold2             0.985           0.923            0.97            0.98   \n",
       "Fold3             0.983           0.926           0.971           0.982   \n",
       "Fold4             0.983           0.931           0.971           0.984   \n",
       "Fold5             0.988            0.93           0.976           0.985   \n",
       "\n",
       "      NormalWeighted7 NormalWeighted9  \n",
       "Fold1           0.987           0.987  \n",
       "Fold2           0.985           0.984  \n",
       "Fold3           0.983           0.984  \n",
       "Fold4           0.985           0.983  \n",
       "Fold5           0.987           0.987  "
      ]
     },
     "execution_count": 28,
     "metadata": {},
     "output_type": "execute_result"
    }
   ],
   "source": [
    "recall_table"
   ]
  },
  {
   "cell_type": "code",
   "execution_count": 29,
   "id": "6f4a240e",
   "metadata": {
    "pycharm": {
     "name": "#%%\n"
    }
   },
   "outputs": [
    {
     "data": {
      "text/html": [
       "<div>\n",
       "<style scoped>\n",
       "    .dataframe tbody tr th:only-of-type {\n",
       "        vertical-align: middle;\n",
       "    }\n",
       "\n",
       "    .dataframe tbody tr th {\n",
       "        vertical-align: top;\n",
       "    }\n",
       "\n",
       "    .dataframe thead th {\n",
       "        text-align: right;\n",
       "    }\n",
       "</style>\n",
       "<table border=\"1\" class=\"dataframe\">\n",
       "  <thead>\n",
       "    <tr style=\"text-align: right;\">\n",
       "      <th></th>\n",
       "      <th>noUnweighted1</th>\n",
       "      <th>noUnweighted3</th>\n",
       "      <th>noUnweighted5</th>\n",
       "      <th>noUnweighted7</th>\n",
       "      <th>noUnweighted9</th>\n",
       "      <th>noWeighted1</th>\n",
       "      <th>noWeighted3</th>\n",
       "      <th>noWeighted5</th>\n",
       "      <th>noWeighted7</th>\n",
       "      <th>noWeighted9</th>\n",
       "      <th>NormalUnweighted1</th>\n",
       "      <th>NormalUnweighted3</th>\n",
       "      <th>NormalUnweighted5</th>\n",
       "      <th>NormalUnweighted7</th>\n",
       "      <th>NormalUnweighted9</th>\n",
       "      <th>NormalWeighted1</th>\n",
       "      <th>NormalWeighted3</th>\n",
       "      <th>NormalWeighted5</th>\n",
       "      <th>NormalWeighted7</th>\n",
       "      <th>NormalWeighted9</th>\n",
       "    </tr>\n",
       "  </thead>\n",
       "  <tbody>\n",
       "    <tr>\n",
       "      <th>mean</th>\n",
       "      <td>0.96</td>\n",
       "      <td>0.9828</td>\n",
       "      <td>0.9866</td>\n",
       "      <td>0.988</td>\n",
       "      <td>0.9876</td>\n",
       "      <td>0.96</td>\n",
       "      <td>0.983</td>\n",
       "      <td>0.987</td>\n",
       "      <td>0.9878</td>\n",
       "      <td>0.988</td>\n",
       "      <td>0.9296</td>\n",
       "      <td>0.9694</td>\n",
       "      <td>0.9814</td>\n",
       "      <td>0.9852</td>\n",
       "      <td>0.9852</td>\n",
       "      <td>0.9296</td>\n",
       "      <td>0.9726</td>\n",
       "      <td>0.9828</td>\n",
       "      <td>0.9854</td>\n",
       "      <td>0.985</td>\n",
       "    </tr>\n",
       "  </tbody>\n",
       "</table>\n",
       "</div>"
      ],
      "text/plain": [
       "      noUnweighted1  noUnweighted3  noUnweighted5  noUnweighted7  \\\n",
       "mean           0.96         0.9828         0.9866          0.988   \n",
       "\n",
       "      noUnweighted9  noWeighted1  noWeighted3  noWeighted5  noWeighted7  \\\n",
       "mean         0.9876         0.96        0.983        0.987       0.9878   \n",
       "\n",
       "      noWeighted9  NormalUnweighted1  NormalUnweighted3  NormalUnweighted5  \\\n",
       "mean        0.988             0.9296             0.9694             0.9814   \n",
       "\n",
       "      NormalUnweighted7  NormalUnweighted9  NormalWeighted1  NormalWeighted3  \\\n",
       "mean             0.9852             0.9852           0.9296           0.9726   \n",
       "\n",
       "      NormalWeighted5  NormalWeighted7  NormalWeighted9  \n",
       "mean           0.9828           0.9854            0.985  "
      ]
     },
     "execution_count": 29,
     "metadata": {},
     "output_type": "execute_result"
    }
   ],
   "source": [
    "mean_recall.rename(index={0:\"mean\"}, inplace=True)\n",
    "mean_recall"
   ]
  },
  {
   "cell_type": "markdown",
   "id": "fdf8f457",
   "metadata": {
    "pycharm": {
     "name": "#%% md\n"
    }
   },
   "source": [
    "Recall and Precision results are very high. Therefore, we can say that our model reliable."
   ]
  },
  {
   "cell_type": "markdown",
   "id": "fc60f124",
   "metadata": {
    "pycharm": {
     "name": "#%% md\n"
    }
   },
   "source": [
    "# PART 2: Energy Efficiency Estimation from Data\n"
   ]
  },
  {
   "cell_type": "markdown",
   "id": "84ebb22f",
   "metadata": {
    "pycharm": {
     "name": "#%% md\n"
    }
   },
   "source": [
    "In this part of the assignment, we will implement a nearest neighbor algorithm to estimate two different energy efficiency values of different building shapes by using 5-fold cross-validaton method."
   ]
  },
  {
   "cell_type": "markdown",
   "id": "3be008e8",
   "metadata": {
    "pycharm": {
     "name": "#%% md\n"
    }
   },
   "source": [
    " Dataset consists of 768 samples with two different continuous energy efficiency output rate (”Heating Load”, ”Cooling Load”) values."
   ]
  },
  {
   "cell_type": "markdown",
   "id": "8dd712d0",
   "metadata": {
    "pycharm": {
     "name": "#%% md\n"
    }
   },
   "source": [
    "Used before libraries"
   ]
  },
  {
   "cell_type": "code",
   "execution_count": 30,
   "id": "e3e82424",
   "metadata": {
    "pycharm": {
     "name": "#%%\n"
    }
   },
   "outputs": [],
   "source": [
    "# Step 1. Read classification data and transform it to the Numpy array collection"
   ]
  },
  {
   "cell_type": "code",
   "execution_count": 31,
   "id": "3e99b123",
   "metadata": {
    "pycharm": {
     "name": "#%%\n"
    }
   },
   "outputs": [
    {
     "data": {
      "text/plain": [
       "array([['0.98', '514.5', '294', ..., '0', '15.55', '21.33'],\n",
       "       ['0.98', '514.5', '294', ..., '0', '15.55', '21.33'],\n",
       "       ['0.98', '514.5', '294', ..., '0', '15.55', '21.33'],\n",
       "       ...,\n",
       "       ['0.62', '808.5', '367.5', ..., '5', '16.44', '17.11'],\n",
       "       ['0.62', '808.5', '367.5', ..., '5', '16.48', '16.61'],\n",
       "       ['0.62', '808.5', '367.5', ..., '5', '16.64', '16.03']],\n",
       "      dtype='<U25')"
      ]
     },
     "execution_count": 31,
     "metadata": {},
     "output_type": "execute_result"
    }
   ],
   "source": [
    "data = np.array(read_csv(\"energy_efficiency_data.csv\"))\n",
    "\n",
    "data"
   ]
  },
  {
   "cell_type": "code",
   "execution_count": 32,
   "id": "db634595",
   "metadata": {
    "pycharm": {
     "name": "#%%\n"
    }
   },
   "outputs": [
    {
     "data": {
      "text/plain": [
       "array([[9.800e-01, 5.145e+02, 2.940e+02, ..., 3.000e+00, 4.000e-01,\n",
       "        2.000e+00],\n",
       "       [8.200e-01, 6.125e+02, 3.185e+02, ..., 2.000e+00, 1.000e-01,\n",
       "        2.000e+00],\n",
       "       [7.600e-01, 6.615e+02, 4.165e+02, ..., 2.000e+00, 2.500e-01,\n",
       "        5.000e+00],\n",
       "       ...,\n",
       "       [6.600e-01, 7.595e+02, 3.185e+02, ..., 3.000e+00, 4.000e-01,\n",
       "        3.000e+00],\n",
       "       [8.600e-01, 5.880e+02, 2.940e+02, ..., 5.000e+00, 1.000e-01,\n",
       "        3.000e+00],\n",
       "       [6.900e-01, 7.350e+02, 2.940e+02, ..., 5.000e+00, 2.500e-01,\n",
       "        1.000e+00]])"
      ]
     },
     "execution_count": 32,
     "metadata": {},
     "output_type": "execute_result"
    }
   ],
   "source": [
    "#shuffle\n",
    "shuffled_data, shuffled_result_heating, shuffled_result_cooling = shuffleP2(data)\n",
    "\n",
    "length_of_data = len(shuffled_data)\n",
    "shuffled_data"
   ]
  },
  {
   "cell_type": "code",
   "execution_count": 33,
   "id": "84e6d977",
   "metadata": {
    "pycharm": {
     "name": "#%%\n"
    }
   },
   "outputs": [
    {
     "data": {
      "text/html": [
       "<div>\n",
       "<style scoped>\n",
       "    .dataframe tbody tr th:only-of-type {\n",
       "        vertical-align: middle;\n",
       "    }\n",
       "\n",
       "    .dataframe tbody tr th {\n",
       "        vertical-align: top;\n",
       "    }\n",
       "\n",
       "    .dataframe thead th {\n",
       "        text-align: right;\n",
       "    }\n",
       "</style>\n",
       "<table border=\"1\" class=\"dataframe\">\n",
       "  <thead>\n",
       "    <tr style=\"text-align: right;\">\n",
       "      <th></th>\n",
       "      <th>noUnweighted1</th>\n",
       "      <th>noUnweighted3</th>\n",
       "      <th>noUnweighted5</th>\n",
       "      <th>noUnweighted7</th>\n",
       "      <th>noUnweighted9</th>\n",
       "      <th>noWeighted1</th>\n",
       "      <th>noWeighted3</th>\n",
       "      <th>noWeighted5</th>\n",
       "      <th>noWeighted7</th>\n",
       "      <th>noWeighted9</th>\n",
       "      <th>NormalUnweighted1</th>\n",
       "      <th>NormalUnweighted3</th>\n",
       "      <th>NormalUnweighted5</th>\n",
       "      <th>NormalUnweighted7</th>\n",
       "      <th>NormalUnweighted9</th>\n",
       "      <th>NormalWeighted1</th>\n",
       "      <th>NormalWeighted3</th>\n",
       "      <th>NormalWeighted5</th>\n",
       "      <th>NormalWeighted7</th>\n",
       "      <th>NormalWeighted9</th>\n",
       "    </tr>\n",
       "  </thead>\n",
       "  <tbody>\n",
       "    <tr>\n",
       "      <th>Fold1</th>\n",
       "      <td>NaN</td>\n",
       "      <td>NaN</td>\n",
       "      <td>NaN</td>\n",
       "      <td>NaN</td>\n",
       "      <td>NaN</td>\n",
       "      <td>NaN</td>\n",
       "      <td>NaN</td>\n",
       "      <td>NaN</td>\n",
       "      <td>NaN</td>\n",
       "      <td>NaN</td>\n",
       "      <td>NaN</td>\n",
       "      <td>NaN</td>\n",
       "      <td>NaN</td>\n",
       "      <td>NaN</td>\n",
       "      <td>NaN</td>\n",
       "      <td>NaN</td>\n",
       "      <td>NaN</td>\n",
       "      <td>NaN</td>\n",
       "      <td>NaN</td>\n",
       "      <td>NaN</td>\n",
       "    </tr>\n",
       "    <tr>\n",
       "      <th>Fold2</th>\n",
       "      <td>NaN</td>\n",
       "      <td>NaN</td>\n",
       "      <td>NaN</td>\n",
       "      <td>NaN</td>\n",
       "      <td>NaN</td>\n",
       "      <td>NaN</td>\n",
       "      <td>NaN</td>\n",
       "      <td>NaN</td>\n",
       "      <td>NaN</td>\n",
       "      <td>NaN</td>\n",
       "      <td>NaN</td>\n",
       "      <td>NaN</td>\n",
       "      <td>NaN</td>\n",
       "      <td>NaN</td>\n",
       "      <td>NaN</td>\n",
       "      <td>NaN</td>\n",
       "      <td>NaN</td>\n",
       "      <td>NaN</td>\n",
       "      <td>NaN</td>\n",
       "      <td>NaN</td>\n",
       "    </tr>\n",
       "    <tr>\n",
       "      <th>Fold3</th>\n",
       "      <td>NaN</td>\n",
       "      <td>NaN</td>\n",
       "      <td>NaN</td>\n",
       "      <td>NaN</td>\n",
       "      <td>NaN</td>\n",
       "      <td>NaN</td>\n",
       "      <td>NaN</td>\n",
       "      <td>NaN</td>\n",
       "      <td>NaN</td>\n",
       "      <td>NaN</td>\n",
       "      <td>NaN</td>\n",
       "      <td>NaN</td>\n",
       "      <td>NaN</td>\n",
       "      <td>NaN</td>\n",
       "      <td>NaN</td>\n",
       "      <td>NaN</td>\n",
       "      <td>NaN</td>\n",
       "      <td>NaN</td>\n",
       "      <td>NaN</td>\n",
       "      <td>NaN</td>\n",
       "    </tr>\n",
       "    <tr>\n",
       "      <th>Fold4</th>\n",
       "      <td>NaN</td>\n",
       "      <td>NaN</td>\n",
       "      <td>NaN</td>\n",
       "      <td>NaN</td>\n",
       "      <td>NaN</td>\n",
       "      <td>NaN</td>\n",
       "      <td>NaN</td>\n",
       "      <td>NaN</td>\n",
       "      <td>NaN</td>\n",
       "      <td>NaN</td>\n",
       "      <td>NaN</td>\n",
       "      <td>NaN</td>\n",
       "      <td>NaN</td>\n",
       "      <td>NaN</td>\n",
       "      <td>NaN</td>\n",
       "      <td>NaN</td>\n",
       "      <td>NaN</td>\n",
       "      <td>NaN</td>\n",
       "      <td>NaN</td>\n",
       "      <td>NaN</td>\n",
       "    </tr>\n",
       "    <tr>\n",
       "      <th>Fold5</th>\n",
       "      <td>NaN</td>\n",
       "      <td>NaN</td>\n",
       "      <td>NaN</td>\n",
       "      <td>NaN</td>\n",
       "      <td>NaN</td>\n",
       "      <td>NaN</td>\n",
       "      <td>NaN</td>\n",
       "      <td>NaN</td>\n",
       "      <td>NaN</td>\n",
       "      <td>NaN</td>\n",
       "      <td>NaN</td>\n",
       "      <td>NaN</td>\n",
       "      <td>NaN</td>\n",
       "      <td>NaN</td>\n",
       "      <td>NaN</td>\n",
       "      <td>NaN</td>\n",
       "      <td>NaN</td>\n",
       "      <td>NaN</td>\n",
       "      <td>NaN</td>\n",
       "      <td>NaN</td>\n",
       "    </tr>\n",
       "  </tbody>\n",
       "</table>\n",
       "</div>"
      ],
      "text/plain": [
       "      noUnweighted1 noUnweighted3 noUnweighted5 noUnweighted7 noUnweighted9  \\\n",
       "Fold1           NaN           NaN           NaN           NaN           NaN   \n",
       "Fold2           NaN           NaN           NaN           NaN           NaN   \n",
       "Fold3           NaN           NaN           NaN           NaN           NaN   \n",
       "Fold4           NaN           NaN           NaN           NaN           NaN   \n",
       "Fold5           NaN           NaN           NaN           NaN           NaN   \n",
       "\n",
       "      noWeighted1 noWeighted3 noWeighted5 noWeighted7 noWeighted9  \\\n",
       "Fold1         NaN         NaN         NaN         NaN         NaN   \n",
       "Fold2         NaN         NaN         NaN         NaN         NaN   \n",
       "Fold3         NaN         NaN         NaN         NaN         NaN   \n",
       "Fold4         NaN         NaN         NaN         NaN         NaN   \n",
       "Fold5         NaN         NaN         NaN         NaN         NaN   \n",
       "\n",
       "      NormalUnweighted1 NormalUnweighted3 NormalUnweighted5 NormalUnweighted7  \\\n",
       "Fold1               NaN               NaN               NaN               NaN   \n",
       "Fold2               NaN               NaN               NaN               NaN   \n",
       "Fold3               NaN               NaN               NaN               NaN   \n",
       "Fold4               NaN               NaN               NaN               NaN   \n",
       "Fold5               NaN               NaN               NaN               NaN   \n",
       "\n",
       "      NormalUnweighted9 NormalWeighted1 NormalWeighted3 NormalWeighted5  \\\n",
       "Fold1               NaN             NaN             NaN             NaN   \n",
       "Fold2               NaN             NaN             NaN             NaN   \n",
       "Fold3               NaN             NaN             NaN             NaN   \n",
       "Fold4               NaN             NaN             NaN             NaN   \n",
       "Fold5               NaN             NaN             NaN             NaN   \n",
       "\n",
       "      NormalWeighted7 NormalWeighted9  \n",
       "Fold1             NaN             NaN  \n",
       "Fold2             NaN             NaN  \n",
       "Fold3             NaN             NaN  \n",
       "Fold4             NaN             NaN  \n",
       "Fold5             NaN             NaN  "
      ]
     },
     "execution_count": 33,
     "metadata": {},
     "output_type": "execute_result"
    }
   ],
   "source": [
    "# result tables\n",
    "MAE_heating_table=pd.DataFrame(columns=[\"noUnweighted1\",\"noUnweighted3\",\"noUnweighted5\",\"noUnweighted7\",\"noUnweighted9\"\n",
    "                                     ,\"noWeighted1\",\"noWeighted3\",\"noWeighted5\",\"noWeighted7\",\"noWeighted9\"\n",
    "                                     ,\"NormalUnweighted1\",\"NormalUnweighted3\",\"NormalUnweighted5\",\"NormalUnweighted7\",\"NormalUnweighted9\"\n",
    "                                     ,\"NormalWeighted1\",\"NormalWeighted3\",\"NormalWeighted5\",\"NormalWeighted7\",\"NormalWeighted9\"],\n",
    "                                index=[\"Fold1\",\"Fold2\", \"Fold3\", \"Fold4\",\"Fold5\"])\n",
    "MAE_cooling_table = copy.deepcopy(MAE_heating_table)\n",
    "\n",
    "MAE_cooling_table"
   ]
  },
  {
   "cell_type": "markdown",
   "id": "a40e9fc7",
   "metadata": {
    "pycharm": {
     "name": "#%% md\n"
    }
   },
   "source": [
    "Calculation of weighted and unweighted estimates for non-normalized values for fold1 fold2 fold3 fold4 and fold5"
   ]
  },
  {
   "cell_type": "markdown",
   "id": "8080545f",
   "metadata": {
    "pycharm": {
     "name": "#%% md\n"
    }
   },
   "source": [
    "#### non-Normalized Part"
   ]
  },
  {
   "cell_type": "code",
   "execution_count": 34,
   "id": "f45845a3",
   "metadata": {
    "pycharm": {
     "name": "#%%\n"
    }
   },
   "outputs": [],
   "source": [
    "for i in range(5):\n",
    "    # define start and end indexes for 5 fold\n",
    "    start_index = int(length_of_data * 0.2 * i)\n",
    "    end_index = int(length_of_data * 0.2 * (i + 1))\n",
    "\n",
    "    # define train and test values\n",
    "    X_train = np.concatenate((shuffled_data[0:start_index, :], shuffled_data[end_index:, :]))\n",
    "    y_train_heating = np.concatenate((shuffled_result_heating[0:start_index], shuffled_result_heating[end_index:]))\n",
    "    y_train_cooling = np.concatenate((shuffled_result_cooling[0:start_index], shuffled_result_cooling[end_index:]))\n",
    "    X_test = shuffled_data[start_index:end_index, :]\n",
    "    y_test_heating = shuffled_result_heating[start_index: end_index]\n",
    "    y_test_cooling = shuffled_result_cooling[start_index: end_index]\n",
    "\n",
    "    y_predict_heating, y_predict_cooling = knn_algorithmP2(X_train, y_train_heating,y_train_cooling, X_test)\n",
    "    for j in range(9,0,-2):\n",
    "        # prints the scores\n",
    "        column_name = \"noUnweighted{}\".format(j)\n",
    "        row_name = \"Fold{}\".format(i + 1)\n",
    "        MAE_heating = np.round((np.sum(np.abs(np.subtract(y_predict_heating[int((9-j)/2)],y_test_heating))) / len(y_test_heating)),decimals=3)\n",
    "        MAE_heating_table[column_name][row_name] = MAE_heating\n",
    "        MAE_cooling = np.round((np.sum(np.abs(np.subtract(y_predict_cooling[int((9-j)/2)],y_test_cooling))) / len(y_test_cooling)),decimals=3)\n",
    "        MAE_cooling_table[column_name][row_name] = MAE_cooling\n",
    "\n",
    "    for j in range(9,0,-2):\n",
    "        column_name = \"noWeighted{}\".format(j)\n",
    "        row_name = \"Fold{}\".format(i + 1)\n",
    "        MAE_heating = np.round((np.sum(np.abs(np.subtract(y_predict_heating[int((19-j)/2)],y_test_heating))) / len(y_test_heating)),decimals=3)\n",
    "        MAE_heating_table[column_name][row_name] = MAE_heating\n",
    "        MAE_cooling = np.round((np.sum(np.abs(np.subtract(y_predict_cooling[int((19 - j) / 2)], y_test_cooling))) / len(y_test_cooling)),decimals=3)\n",
    "        MAE_cooling_table[column_name][row_name] = MAE_cooling"
   ]
  },
  {
   "cell_type": "markdown",
   "id": "a1998076",
   "metadata": {
    "pycharm": {
     "name": "#%% md\n"
    }
   },
   "source": [
    "#### Normalized Part"
   ]
  },
  {
   "cell_type": "code",
   "execution_count": 35,
   "id": "d2341d93",
   "metadata": {
    "pycharm": {
     "name": "#%%\n"
    }
   },
   "outputs": [],
   "source": [
    "#Normalization data\n",
    "shuffled_data=normalization(shuffled_data)\n",
    "for i in range(5):\n",
    "    # define start and end indexes for 5 fold\n",
    "    start_index = int(length_of_data * 0.2 * i)\n",
    "    end_index = int(length_of_data * 0.2 * (i + 1))\n",
    "\n",
    "    # define train and test values\n",
    "    X_train = np.concatenate((shuffled_data[0:start_index, :], shuffled_data[end_index:, :]))\n",
    "    y_train_heating = np.concatenate((shuffled_result_heating[0:start_index], shuffled_result_heating[end_index:]))\n",
    "    y_train_cooling = np.concatenate((shuffled_result_cooling[0:start_index], shuffled_result_cooling[end_index:]))\n",
    "    X_test = shuffled_data[start_index:end_index, :]\n",
    "    y_test_heating = shuffled_result_heating[start_index: end_index]\n",
    "    y_test_cooling = shuffled_result_cooling[start_index: end_index]\n",
    "\n",
    "    y_predict_heating, y_predict_cooling = knn_algorithmP2(X_train, y_train_heating,y_train_cooling, X_test)\n",
    "    for j in range(9,0,-2):\n",
    "        # prints the scores\n",
    "        column_name = \"NormalUnweighted{}\".format(j)\n",
    "        row_name = \"Fold{}\".format(i + 1)\n",
    "        MAE_heating = np.round((np.sum(np.abs(np.subtract(y_predict_heating[int((9-j)/2)],y_test_heating))) / len(y_test_heating)),decimals=3)\n",
    "        MAE_heating_table[column_name][row_name] = MAE_heating\n",
    "        MAE_cooling = np.round((np.sum(np.abs(np.subtract(y_predict_cooling[int((9-j)/2)],y_test_cooling))) / len(y_test_cooling)),decimals=3)\n",
    "        MAE_cooling_table[column_name][row_name] = MAE_cooling\n",
    "\n",
    "    for j in range(9,0,-2):\n",
    "        column_name = \"NormalWeighted{}\".format(j)\n",
    "        row_name = \"Fold{}\".format(i + 1)\n",
    "        MAE_heating = np.round((np.sum(np.abs(np.subtract(y_predict_heating[int((19-j)/2)],y_test_heating))) / len(y_test_heating)),decimals=3)\n",
    "        MAE_heating_table[column_name][row_name] = MAE_heating\n",
    "        MAE_cooling = np.round((np.sum(np.abs(np.subtract(y_predict_cooling[int((19 - j) / 2)], y_test_cooling))) / len(y_test_cooling)),decimals=3)\n",
    "        MAE_cooling_table[column_name][row_name] = MAE_cooling"
   ]
  },
  {
   "cell_type": "markdown",
   "id": "9757ad7d",
   "metadata": {
    "pycharm": {
     "name": "#%% md\n"
    }
   },
   "source": [
    "#### Output Part"
   ]
  },
  {
   "cell_type": "code",
   "execution_count": 36,
   "id": "8b631643",
   "metadata": {
    "pycharm": {
     "name": "#%%\n"
    }
   },
   "outputs": [],
   "source": [
    "MAE_heating_table_mean = pd.DataFrame(MAE_heating_table.mean(axis=0)).T\n",
    "MAE_cooling_table_mean = pd.DataFrame(MAE_cooling_table.mean(axis=0)).T"
   ]
  },
  {
   "cell_type": "code",
   "execution_count": 37,
   "id": "3f72810f",
   "metadata": {
    "pycharm": {
     "name": "#%%\n"
    }
   },
   "outputs": [
    {
     "data": {
      "text/html": [
       "<div>\n",
       "<style scoped>\n",
       "    .dataframe tbody tr th:only-of-type {\n",
       "        vertical-align: middle;\n",
       "    }\n",
       "\n",
       "    .dataframe tbody tr th {\n",
       "        vertical-align: top;\n",
       "    }\n",
       "\n",
       "    .dataframe thead th {\n",
       "        text-align: right;\n",
       "    }\n",
       "</style>\n",
       "<table border=\"1\" class=\"dataframe\">\n",
       "  <thead>\n",
       "    <tr style=\"text-align: right;\">\n",
       "      <th></th>\n",
       "      <th>noUnweighted1</th>\n",
       "      <th>noUnweighted3</th>\n",
       "      <th>noUnweighted5</th>\n",
       "      <th>noUnweighted7</th>\n",
       "      <th>noUnweighted9</th>\n",
       "      <th>noWeighted1</th>\n",
       "      <th>noWeighted3</th>\n",
       "      <th>noWeighted5</th>\n",
       "      <th>noWeighted7</th>\n",
       "      <th>noWeighted9</th>\n",
       "      <th>NormalUnweighted1</th>\n",
       "      <th>NormalUnweighted3</th>\n",
       "      <th>NormalUnweighted5</th>\n",
       "      <th>NormalUnweighted7</th>\n",
       "      <th>NormalUnweighted9</th>\n",
       "      <th>NormalWeighted1</th>\n",
       "      <th>NormalWeighted3</th>\n",
       "      <th>NormalWeighted5</th>\n",
       "      <th>NormalWeighted7</th>\n",
       "      <th>NormalWeighted9</th>\n",
       "    </tr>\n",
       "  </thead>\n",
       "  <tbody>\n",
       "    <tr>\n",
       "      <th>Fold1</th>\n",
       "      <td>2.656</td>\n",
       "      <td>2.366</td>\n",
       "      <td>2.35</td>\n",
       "      <td>2.264</td>\n",
       "      <td>2.237</td>\n",
       "      <td>2.656</td>\n",
       "      <td>2.618</td>\n",
       "      <td>2.625</td>\n",
       "      <td>2.554</td>\n",
       "      <td>2.458</td>\n",
       "      <td>3.028</td>\n",
       "      <td>2.445</td>\n",
       "      <td>2.146</td>\n",
       "      <td>2.056</td>\n",
       "      <td>1.973</td>\n",
       "      <td>3.028</td>\n",
       "      <td>2.417</td>\n",
       "      <td>2.128</td>\n",
       "      <td>2.043</td>\n",
       "      <td>1.952</td>\n",
       "    </tr>\n",
       "    <tr>\n",
       "      <th>Fold2</th>\n",
       "      <td>2.401</td>\n",
       "      <td>2.024</td>\n",
       "      <td>2.014</td>\n",
       "      <td>2.02</td>\n",
       "      <td>1.963</td>\n",
       "      <td>2.401</td>\n",
       "      <td>2.284</td>\n",
       "      <td>2.31</td>\n",
       "      <td>2.247</td>\n",
       "      <td>2.173</td>\n",
       "      <td>2.327</td>\n",
       "      <td>1.906</td>\n",
       "      <td>1.854</td>\n",
       "      <td>1.742</td>\n",
       "      <td>1.742</td>\n",
       "      <td>2.327</td>\n",
       "      <td>1.844</td>\n",
       "      <td>1.785</td>\n",
       "      <td>1.71</td>\n",
       "      <td>1.698</td>\n",
       "    </tr>\n",
       "    <tr>\n",
       "      <th>Fold3</th>\n",
       "      <td>2.425</td>\n",
       "      <td>2.179</td>\n",
       "      <td>2.151</td>\n",
       "      <td>2.19</td>\n",
       "      <td>2.214</td>\n",
       "      <td>2.425</td>\n",
       "      <td>2.474</td>\n",
       "      <td>2.509</td>\n",
       "      <td>2.478</td>\n",
       "      <td>2.467</td>\n",
       "      <td>2.208</td>\n",
       "      <td>2.071</td>\n",
       "      <td>1.959</td>\n",
       "      <td>1.947</td>\n",
       "      <td>1.949</td>\n",
       "      <td>2.208</td>\n",
       "      <td>1.993</td>\n",
       "      <td>1.927</td>\n",
       "      <td>1.881</td>\n",
       "      <td>1.885</td>\n",
       "    </tr>\n",
       "    <tr>\n",
       "      <th>Fold4</th>\n",
       "      <td>2.5</td>\n",
       "      <td>2.028</td>\n",
       "      <td>1.961</td>\n",
       "      <td>1.993</td>\n",
       "      <td>1.968</td>\n",
       "      <td>2.5</td>\n",
       "      <td>2.249</td>\n",
       "      <td>2.211</td>\n",
       "      <td>2.272</td>\n",
       "      <td>2.226</td>\n",
       "      <td>2.488</td>\n",
       "      <td>1.958</td>\n",
       "      <td>1.789</td>\n",
       "      <td>1.804</td>\n",
       "      <td>1.803</td>\n",
       "      <td>2.488</td>\n",
       "      <td>1.963</td>\n",
       "      <td>1.765</td>\n",
       "      <td>1.767</td>\n",
       "      <td>1.782</td>\n",
       "    </tr>\n",
       "    <tr>\n",
       "      <th>Fold5</th>\n",
       "      <td>2.571</td>\n",
       "      <td>2.113</td>\n",
       "      <td>2.02</td>\n",
       "      <td>1.988</td>\n",
       "      <td>1.96</td>\n",
       "      <td>2.571</td>\n",
       "      <td>2.441</td>\n",
       "      <td>2.355</td>\n",
       "      <td>2.247</td>\n",
       "      <td>2.223</td>\n",
       "      <td>2.288</td>\n",
       "      <td>1.921</td>\n",
       "      <td>1.737</td>\n",
       "      <td>1.659</td>\n",
       "      <td>1.568</td>\n",
       "      <td>2.288</td>\n",
       "      <td>1.846</td>\n",
       "      <td>1.683</td>\n",
       "      <td>1.625</td>\n",
       "      <td>1.571</td>\n",
       "    </tr>\n",
       "  </tbody>\n",
       "</table>\n",
       "</div>"
      ],
      "text/plain": [
       "      noUnweighted1 noUnweighted3 noUnweighted5 noUnweighted7 noUnweighted9  \\\n",
       "Fold1         2.656         2.366          2.35         2.264         2.237   \n",
       "Fold2         2.401         2.024         2.014          2.02         1.963   \n",
       "Fold3         2.425         2.179         2.151          2.19         2.214   \n",
       "Fold4           2.5         2.028         1.961         1.993         1.968   \n",
       "Fold5         2.571         2.113          2.02         1.988          1.96   \n",
       "\n",
       "      noWeighted1 noWeighted3 noWeighted5 noWeighted7 noWeighted9  \\\n",
       "Fold1       2.656       2.618       2.625       2.554       2.458   \n",
       "Fold2       2.401       2.284        2.31       2.247       2.173   \n",
       "Fold3       2.425       2.474       2.509       2.478       2.467   \n",
       "Fold4         2.5       2.249       2.211       2.272       2.226   \n",
       "Fold5       2.571       2.441       2.355       2.247       2.223   \n",
       "\n",
       "      NormalUnweighted1 NormalUnweighted3 NormalUnweighted5 NormalUnweighted7  \\\n",
       "Fold1             3.028             2.445             2.146             2.056   \n",
       "Fold2             2.327             1.906             1.854             1.742   \n",
       "Fold3             2.208             2.071             1.959             1.947   \n",
       "Fold4             2.488             1.958             1.789             1.804   \n",
       "Fold5             2.288             1.921             1.737             1.659   \n",
       "\n",
       "      NormalUnweighted9 NormalWeighted1 NormalWeighted3 NormalWeighted5  \\\n",
       "Fold1             1.973           3.028           2.417           2.128   \n",
       "Fold2             1.742           2.327           1.844           1.785   \n",
       "Fold3             1.949           2.208           1.993           1.927   \n",
       "Fold4             1.803           2.488           1.963           1.765   \n",
       "Fold5             1.568           2.288           1.846           1.683   \n",
       "\n",
       "      NormalWeighted7 NormalWeighted9  \n",
       "Fold1           2.043           1.952  \n",
       "Fold2            1.71           1.698  \n",
       "Fold3           1.881           1.885  \n",
       "Fold4           1.767           1.782  \n",
       "Fold5           1.625           1.571  "
      ]
     },
     "execution_count": 37,
     "metadata": {},
     "output_type": "execute_result"
    }
   ],
   "source": [
    "MAE_heating_table"
   ]
  },
  {
   "cell_type": "code",
   "execution_count": 38,
   "id": "082430e5",
   "metadata": {
    "pycharm": {
     "name": "#%%\n"
    }
   },
   "outputs": [
    {
     "data": {
      "text/html": [
       "<div>\n",
       "<style scoped>\n",
       "    .dataframe tbody tr th:only-of-type {\n",
       "        vertical-align: middle;\n",
       "    }\n",
       "\n",
       "    .dataframe tbody tr th {\n",
       "        vertical-align: top;\n",
       "    }\n",
       "\n",
       "    .dataframe thead th {\n",
       "        text-align: right;\n",
       "    }\n",
       "</style>\n",
       "<table border=\"1\" class=\"dataframe\">\n",
       "  <thead>\n",
       "    <tr style=\"text-align: right;\">\n",
       "      <th></th>\n",
       "      <th>noUnweighted1</th>\n",
       "      <th>noUnweighted3</th>\n",
       "      <th>noUnweighted5</th>\n",
       "      <th>noUnweighted7</th>\n",
       "      <th>noUnweighted9</th>\n",
       "      <th>noWeighted1</th>\n",
       "      <th>noWeighted3</th>\n",
       "      <th>noWeighted5</th>\n",
       "      <th>noWeighted7</th>\n",
       "      <th>noWeighted9</th>\n",
       "      <th>NormalUnweighted1</th>\n",
       "      <th>NormalUnweighted3</th>\n",
       "      <th>NormalUnweighted5</th>\n",
       "      <th>NormalUnweighted7</th>\n",
       "      <th>NormalUnweighted9</th>\n",
       "      <th>NormalWeighted1</th>\n",
       "      <th>NormalWeighted3</th>\n",
       "      <th>NormalWeighted5</th>\n",
       "      <th>NormalWeighted7</th>\n",
       "      <th>NormalWeighted9</th>\n",
       "    </tr>\n",
       "  </thead>\n",
       "  <tbody>\n",
       "    <tr>\n",
       "      <th>mean</th>\n",
       "      <td>2.5106</td>\n",
       "      <td>2.142</td>\n",
       "      <td>2.0992</td>\n",
       "      <td>2.091</td>\n",
       "      <td>2.0684</td>\n",
       "      <td>2.5106</td>\n",
       "      <td>2.4132</td>\n",
       "      <td>2.402</td>\n",
       "      <td>2.3596</td>\n",
       "      <td>2.3094</td>\n",
       "      <td>2.4678</td>\n",
       "      <td>2.0602</td>\n",
       "      <td>1.897</td>\n",
       "      <td>1.8416</td>\n",
       "      <td>1.807</td>\n",
       "      <td>2.4678</td>\n",
       "      <td>2.0126</td>\n",
       "      <td>1.8576</td>\n",
       "      <td>1.8052</td>\n",
       "      <td>1.7776</td>\n",
       "    </tr>\n",
       "  </tbody>\n",
       "</table>\n",
       "</div>"
      ],
      "text/plain": [
       "      noUnweighted1  noUnweighted3  noUnweighted5  noUnweighted7  \\\n",
       "mean         2.5106          2.142         2.0992          2.091   \n",
       "\n",
       "      noUnweighted9  noWeighted1  noWeighted3  noWeighted5  noWeighted7  \\\n",
       "mean         2.0684       2.5106       2.4132        2.402       2.3596   \n",
       "\n",
       "      noWeighted9  NormalUnweighted1  NormalUnweighted3  NormalUnweighted5  \\\n",
       "mean       2.3094             2.4678             2.0602              1.897   \n",
       "\n",
       "      NormalUnweighted7  NormalUnweighted9  NormalWeighted1  NormalWeighted3  \\\n",
       "mean             1.8416              1.807           2.4678           2.0126   \n",
       "\n",
       "      NormalWeighted5  NormalWeighted7  NormalWeighted9  \n",
       "mean           1.8576           1.8052           1.7776  "
      ]
     },
     "execution_count": 38,
     "metadata": {},
     "output_type": "execute_result"
    }
   ],
   "source": [
    "MAE_heating_table_mean.rename(index={0:\"mean\"}, inplace=True)\n",
    "MAE_heating_table_mean"
   ]
  },
  {
   "cell_type": "markdown",
   "id": "bc6e3fa1",
   "metadata": {
    "pycharm": {
     "name": "#%% md\n"
    }
   },
   "source": [
    "Increasing the k value may be good. Because our algorithm may predict relevant results.\n",
    "For this assignment optimal k values is 9.\n",
    "\n",
    "\n",
    "Weighted knn with feature normalization algorithm predicts more true results.\n",
    "Because the test sample gives nearer results respectively to the closest samples and this increases the prediction truth.\n",
    "\n",
    "The dataset attributes ranges are highly different from each other. So that some attributes may falsify the result. Normalization provide us to make all attributes in the same range. Therefore, normalization gives us to more true prediction."
   ]
  },
  {
   "cell_type": "code",
   "execution_count": 39,
   "id": "9a4b37bb",
   "metadata": {
    "pycharm": {
     "name": "#%%\n"
    }
   },
   "outputs": [
    {
     "data": {
      "text/html": [
       "<div>\n",
       "<style scoped>\n",
       "    .dataframe tbody tr th:only-of-type {\n",
       "        vertical-align: middle;\n",
       "    }\n",
       "\n",
       "    .dataframe tbody tr th {\n",
       "        vertical-align: top;\n",
       "    }\n",
       "\n",
       "    .dataframe thead th {\n",
       "        text-align: right;\n",
       "    }\n",
       "</style>\n",
       "<table border=\"1\" class=\"dataframe\">\n",
       "  <thead>\n",
       "    <tr style=\"text-align: right;\">\n",
       "      <th></th>\n",
       "      <th>noUnweighted1</th>\n",
       "      <th>noUnweighted3</th>\n",
       "      <th>noUnweighted5</th>\n",
       "      <th>noUnweighted7</th>\n",
       "      <th>noUnweighted9</th>\n",
       "      <th>noWeighted1</th>\n",
       "      <th>noWeighted3</th>\n",
       "      <th>noWeighted5</th>\n",
       "      <th>noWeighted7</th>\n",
       "      <th>noWeighted9</th>\n",
       "      <th>NormalUnweighted1</th>\n",
       "      <th>NormalUnweighted3</th>\n",
       "      <th>NormalUnweighted5</th>\n",
       "      <th>NormalUnweighted7</th>\n",
       "      <th>NormalUnweighted9</th>\n",
       "      <th>NormalWeighted1</th>\n",
       "      <th>NormalWeighted3</th>\n",
       "      <th>NormalWeighted5</th>\n",
       "      <th>NormalWeighted7</th>\n",
       "      <th>NormalWeighted9</th>\n",
       "    </tr>\n",
       "  </thead>\n",
       "  <tbody>\n",
       "    <tr>\n",
       "      <th>Fold1</th>\n",
       "      <td>2.525</td>\n",
       "      <td>2.203</td>\n",
       "      <td>2.138</td>\n",
       "      <td>2.023</td>\n",
       "      <td>2.054</td>\n",
       "      <td>2.525</td>\n",
       "      <td>2.242</td>\n",
       "      <td>2.163</td>\n",
       "      <td>2.069</td>\n",
       "      <td>2.031</td>\n",
       "      <td>3.163</td>\n",
       "      <td>2.643</td>\n",
       "      <td>2.362</td>\n",
       "      <td>2.272</td>\n",
       "      <td>2.172</td>\n",
       "      <td>3.163</td>\n",
       "      <td>2.697</td>\n",
       "      <td>2.414</td>\n",
       "      <td>2.315</td>\n",
       "      <td>2.201</td>\n",
       "    </tr>\n",
       "    <tr>\n",
       "      <th>Fold2</th>\n",
       "      <td>2.296</td>\n",
       "      <td>1.741</td>\n",
       "      <td>1.742</td>\n",
       "      <td>1.792</td>\n",
       "      <td>1.736</td>\n",
       "      <td>2.296</td>\n",
       "      <td>1.873</td>\n",
       "      <td>1.785</td>\n",
       "      <td>1.747</td>\n",
       "      <td>1.699</td>\n",
       "      <td>2.502</td>\n",
       "      <td>2.052</td>\n",
       "      <td>2.03</td>\n",
       "      <td>1.891</td>\n",
       "      <td>1.858</td>\n",
       "      <td>2.502</td>\n",
       "      <td>2.026</td>\n",
       "      <td>2.002</td>\n",
       "      <td>1.887</td>\n",
       "      <td>1.858</td>\n",
       "    </tr>\n",
       "    <tr>\n",
       "      <th>Fold3</th>\n",
       "      <td>2.408</td>\n",
       "      <td>1.998</td>\n",
       "      <td>1.889</td>\n",
       "      <td>1.888</td>\n",
       "      <td>1.891</td>\n",
       "      <td>2.408</td>\n",
       "      <td>2.164</td>\n",
       "      <td>2.049</td>\n",
       "      <td>2.008</td>\n",
       "      <td>1.977</td>\n",
       "      <td>2.521</td>\n",
       "      <td>2.264</td>\n",
       "      <td>2.151</td>\n",
       "      <td>2.136</td>\n",
       "      <td>2.121</td>\n",
       "      <td>2.521</td>\n",
       "      <td>2.207</td>\n",
       "      <td>2.145</td>\n",
       "      <td>2.095</td>\n",
       "      <td>2.084</td>\n",
       "    </tr>\n",
       "    <tr>\n",
       "      <th>Fold4</th>\n",
       "      <td>2.436</td>\n",
       "      <td>1.775</td>\n",
       "      <td>1.776</td>\n",
       "      <td>1.782</td>\n",
       "      <td>1.725</td>\n",
       "      <td>2.436</td>\n",
       "      <td>1.909</td>\n",
       "      <td>1.855</td>\n",
       "      <td>1.808</td>\n",
       "      <td>1.735</td>\n",
       "      <td>2.88</td>\n",
       "      <td>2.107</td>\n",
       "      <td>2.015</td>\n",
       "      <td>1.985</td>\n",
       "      <td>1.902</td>\n",
       "      <td>2.88</td>\n",
       "      <td>2.156</td>\n",
       "      <td>2.044</td>\n",
       "      <td>2.017</td>\n",
       "      <td>1.965</td>\n",
       "    </tr>\n",
       "    <tr>\n",
       "      <th>Fold5</th>\n",
       "      <td>2.394</td>\n",
       "      <td>1.708</td>\n",
       "      <td>1.658</td>\n",
       "      <td>1.647</td>\n",
       "      <td>1.578</td>\n",
       "      <td>2.394</td>\n",
       "      <td>1.947</td>\n",
       "      <td>1.792</td>\n",
       "      <td>1.722</td>\n",
       "      <td>1.675</td>\n",
       "      <td>2.623</td>\n",
       "      <td>2.123</td>\n",
       "      <td>1.96</td>\n",
       "      <td>1.917</td>\n",
       "      <td>1.88</td>\n",
       "      <td>2.623</td>\n",
       "      <td>2.079</td>\n",
       "      <td>1.957</td>\n",
       "      <td>1.906</td>\n",
       "      <td>1.902</td>\n",
       "    </tr>\n",
       "  </tbody>\n",
       "</table>\n",
       "</div>"
      ],
      "text/plain": [
       "      noUnweighted1 noUnweighted3 noUnweighted5 noUnweighted7 noUnweighted9  \\\n",
       "Fold1         2.525         2.203         2.138         2.023         2.054   \n",
       "Fold2         2.296         1.741         1.742         1.792         1.736   \n",
       "Fold3         2.408         1.998         1.889         1.888         1.891   \n",
       "Fold4         2.436         1.775         1.776         1.782         1.725   \n",
       "Fold5         2.394         1.708         1.658         1.647         1.578   \n",
       "\n",
       "      noWeighted1 noWeighted3 noWeighted5 noWeighted7 noWeighted9  \\\n",
       "Fold1       2.525       2.242       2.163       2.069       2.031   \n",
       "Fold2       2.296       1.873       1.785       1.747       1.699   \n",
       "Fold3       2.408       2.164       2.049       2.008       1.977   \n",
       "Fold4       2.436       1.909       1.855       1.808       1.735   \n",
       "Fold5       2.394       1.947       1.792       1.722       1.675   \n",
       "\n",
       "      NormalUnweighted1 NormalUnweighted3 NormalUnweighted5 NormalUnweighted7  \\\n",
       "Fold1             3.163             2.643             2.362             2.272   \n",
       "Fold2             2.502             2.052              2.03             1.891   \n",
       "Fold3             2.521             2.264             2.151             2.136   \n",
       "Fold4              2.88             2.107             2.015             1.985   \n",
       "Fold5             2.623             2.123              1.96             1.917   \n",
       "\n",
       "      NormalUnweighted9 NormalWeighted1 NormalWeighted3 NormalWeighted5  \\\n",
       "Fold1             2.172           3.163           2.697           2.414   \n",
       "Fold2             1.858           2.502           2.026           2.002   \n",
       "Fold3             2.121           2.521           2.207           2.145   \n",
       "Fold4             1.902            2.88           2.156           2.044   \n",
       "Fold5              1.88           2.623           2.079           1.957   \n",
       "\n",
       "      NormalWeighted7 NormalWeighted9  \n",
       "Fold1           2.315           2.201  \n",
       "Fold2           1.887           1.858  \n",
       "Fold3           2.095           2.084  \n",
       "Fold4           2.017           1.965  \n",
       "Fold5           1.906           1.902  "
      ]
     },
     "execution_count": 39,
     "metadata": {},
     "output_type": "execute_result"
    }
   ],
   "source": [
    "MAE_cooling_table"
   ]
  },
  {
   "cell_type": "code",
   "execution_count": 40,
   "id": "92ff0722",
   "metadata": {
    "pycharm": {
     "name": "#%%\n"
    }
   },
   "outputs": [
    {
     "data": {
      "text/html": [
       "<div>\n",
       "<style scoped>\n",
       "    .dataframe tbody tr th:only-of-type {\n",
       "        vertical-align: middle;\n",
       "    }\n",
       "\n",
       "    .dataframe tbody tr th {\n",
       "        vertical-align: top;\n",
       "    }\n",
       "\n",
       "    .dataframe thead th {\n",
       "        text-align: right;\n",
       "    }\n",
       "</style>\n",
       "<table border=\"1\" class=\"dataframe\">\n",
       "  <thead>\n",
       "    <tr style=\"text-align: right;\">\n",
       "      <th></th>\n",
       "      <th>noUnweighted1</th>\n",
       "      <th>noUnweighted3</th>\n",
       "      <th>noUnweighted5</th>\n",
       "      <th>noUnweighted7</th>\n",
       "      <th>noUnweighted9</th>\n",
       "      <th>noWeighted1</th>\n",
       "      <th>noWeighted3</th>\n",
       "      <th>noWeighted5</th>\n",
       "      <th>noWeighted7</th>\n",
       "      <th>noWeighted9</th>\n",
       "      <th>NormalUnweighted1</th>\n",
       "      <th>NormalUnweighted3</th>\n",
       "      <th>NormalUnweighted5</th>\n",
       "      <th>NormalUnweighted7</th>\n",
       "      <th>NormalUnweighted9</th>\n",
       "      <th>NormalWeighted1</th>\n",
       "      <th>NormalWeighted3</th>\n",
       "      <th>NormalWeighted5</th>\n",
       "      <th>NormalWeighted7</th>\n",
       "      <th>NormalWeighted9</th>\n",
       "    </tr>\n",
       "  </thead>\n",
       "  <tbody>\n",
       "    <tr>\n",
       "      <th>mean</th>\n",
       "      <td>2.4118</td>\n",
       "      <td>1.885</td>\n",
       "      <td>1.8406</td>\n",
       "      <td>1.8264</td>\n",
       "      <td>1.7968</td>\n",
       "      <td>2.4118</td>\n",
       "      <td>2.027</td>\n",
       "      <td>1.9288</td>\n",
       "      <td>1.8708</td>\n",
       "      <td>1.8234</td>\n",
       "      <td>2.7378</td>\n",
       "      <td>2.2378</td>\n",
       "      <td>2.1036</td>\n",
       "      <td>2.0402</td>\n",
       "      <td>1.9866</td>\n",
       "      <td>2.7378</td>\n",
       "      <td>2.233</td>\n",
       "      <td>2.1124</td>\n",
       "      <td>2.044</td>\n",
       "      <td>2.002</td>\n",
       "    </tr>\n",
       "  </tbody>\n",
       "</table>\n",
       "</div>"
      ],
      "text/plain": [
       "      noUnweighted1  noUnweighted3  noUnweighted5  noUnweighted7  \\\n",
       "mean         2.4118          1.885         1.8406         1.8264   \n",
       "\n",
       "      noUnweighted9  noWeighted1  noWeighted3  noWeighted5  noWeighted7  \\\n",
       "mean         1.7968       2.4118        2.027       1.9288       1.8708   \n",
       "\n",
       "      noWeighted9  NormalUnweighted1  NormalUnweighted3  NormalUnweighted5  \\\n",
       "mean       1.8234             2.7378             2.2378             2.1036   \n",
       "\n",
       "      NormalUnweighted7  NormalUnweighted9  NormalWeighted1  NormalWeighted3  \\\n",
       "mean             2.0402             1.9866           2.7378            2.233   \n",
       "\n",
       "      NormalWeighted5  NormalWeighted7  NormalWeighted9  \n",
       "mean           2.1124            2.044            2.002  "
      ]
     },
     "execution_count": 40,
     "metadata": {},
     "output_type": "execute_result"
    }
   ],
   "source": [
    "MAE_cooling_table_mean.rename(index={0:\"mean\"}, inplace=True)\n",
    "MAE_cooling_table_mean"
   ]
  },
  {
   "cell_type": "markdown",
   "id": "ec7043d6",
   "metadata": {},
   "source": [
    "Increasing the k value may be good. Because our algorithm may predict relevant results.\n",
    "For precition of cooling load values, without feature normalization k-NN algorithms creates more close preditiction to result.\n",
    "It looks like unweighted kNN algorithm is slightly good from weighted kNN algorithm.\n",
    "\n",
    "For these reasons it may be better to choose weighted 9-NN with feature normalization algorithm for heating load values and choose unweighted 9-NN without feature normalization algorithm for cooling load values."
   ]
  }
 ],
 "metadata": {
  "kernelspec": {
   "display_name": "Python 3.10.4 64-bit",
   "language": "python",
   "name": "python3"
  },
  "language_info": {
   "codemirror_mode": {
    "name": "ipython",
    "version": 3
   },
   "file_extension": ".py",
   "mimetype": "text/x-python",
   "name": "python",
   "nbconvert_exporter": "python",
   "pygments_lexer": "ipython3",
   "version": "3.10.4"
  },
  "vscode": {
   "interpreter": {
    "hash": "81a7b6955be9d2908906a88d1e3f48162f78d88ec6f48367cbd81345e9ed5ff3"
   }
  }
 },
 "nbformat": 4,
 "nbformat_minor": 5
}
