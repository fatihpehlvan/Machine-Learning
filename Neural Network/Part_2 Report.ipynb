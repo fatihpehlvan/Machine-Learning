{
 "cells": [
  {
   "cell_type": "markdown",
   "id": "942ea411",
   "metadata": {},
   "source": [
    "# Hacettepe University\n",
    "### BBM 409 4th ASSIGNMENT\n",
    "\n",
    "\n",
    "#### Name and Surname: Fatih Pehlivan – Göktuğ Ocaklıoğlu\n",
    "#### Identity Number: 21946529 - 2200356841\n",
    "#### Course:  BBM 409\n",
    "\n",
    "#### Advisor: Burçak Asal"
   ]
  },
  {
   "cell_type": "code",
   "execution_count": 1,
   "id": "304d0655",
   "metadata": {
    "ExecuteTime": {
     "end_time": "2023-01-06T22:06:31.288012Z",
     "start_time": "2023-01-06T22:06:29.058315Z"
    }
   },
   "outputs": [],
   "source": [
    "from PIL import Image\n",
    "import os\n",
    "import numpy as np\n",
    "import random\n",
    "import torch\n",
    "import torchvision\n",
    "from torchvision import datasets, models, transforms\n",
    "import torch.nn as nn\n",
    "import torch.optim as optim\n",
    "from torch.optim import lr_scheduler\n",
    "import torch.backends.cudnn as cudnn\n",
    "import matplotlib.pyplot as plt\n",
    "import time\n",
    "import copy\n",
    "import sys\n",
    "import torchmetrics"
   ]
  },
  {
   "cell_type": "markdown",
   "id": "681ce37c",
   "metadata": {},
   "source": [
    "# PART 2 : Convolutional Neural Network"
   ]
  },
  {
   "cell_type": "markdown",
   "id": "f6009cf1",
   "metadata": {},
   "source": [
    "In this part of the assignment, we will use pretrained VGG-19 convolutional neural network (CNN) and finetune this network to classify the sample images. We can see the architecture of vgg-19 and its parameters below. We will fine-tune these parameters."
   ]
  },
  {
   "cell_type": "markdown",
   "id": "a86bad9a",
   "metadata": {},
   "source": [
    "<img src=\"vgg19 architecture.png\" style='width:500px;height:200px'>"
   ]
  },
  {
   "cell_type": "markdown",
   "id": "c975f79d",
   "metadata": {},
   "source": [
    "<img src=\"parameters.jpg\" style='width:1000px;height:250px'>"
   ]
  },
  {
   "cell_type": "markdown",
   "id": "3c1e23f7",
   "metadata": {},
   "source": [
    "## Part 2.1"
   ]
  },
  {
   "cell_type": "markdown",
   "id": "b17d9464",
   "metadata": {},
   "source": [
    "We will fine tune the weights of all layers in the VGG-19 network in this section"
   ]
  },
  {
   "cell_type": "code",
   "execution_count": 2,
   "id": "299e2bef",
   "metadata": {
    "ExecuteTime": {
     "end_time": "2023-01-06T22:06:31.304026Z",
     "start_time": "2023-01-06T22:06:31.290016Z"
    }
   },
   "outputs": [],
   "source": [
    "num_epochs=10\n",
    "batchs_size = 32"
   ]
  },
  {
   "cell_type": "code",
   "execution_count": 3,
   "id": "04605f3d",
   "metadata": {
    "ExecuteTime": {
     "end_time": "2023-01-06T22:06:31.461792Z",
     "start_time": "2023-01-06T22:06:31.306027Z"
    }
   },
   "outputs": [
    {
     "name": "stdout",
     "output_type": "stream",
     "text": [
      "Initializing Dataloaders...\n",
      "cuda:0\n"
     ]
    }
   ],
   "source": [
    "#Loading data \n",
    "data_dir = \"Vegetable Images\" \n",
    "data_transforms = transforms.Compose([transforms.Resize((224,224)),\n",
    "                                      transforms.ToTensor()])\n",
    "\n",
    "trainloader = torch.utils.data.DataLoader(datasets.ImageFolder(os.path.join(data_dir,'train'), data_transforms), batch_size=batchs_size, shuffle=True)\n",
    "validloader = torch.utils.data.DataLoader(datasets.ImageFolder(os.path.join(data_dir,'validation'), data_transforms), batch_size=batchs_size, shuffle=True)\n",
    "testloader = torch.utils.data.DataLoader(datasets.ImageFolder(os.path.join(data_dir,'test'), data_transforms), batch_size=batchs_size, shuffle=True)\n",
    "print(\"Initializing Dataloaders...\")\n",
    "\n",
    "\n",
    "# Detect if we have a GPU available\n",
    "device = torch.device(\"cuda:0\" if torch.cuda.is_available() else (\"mps\" if torch.backends.mps.is_available() else \"cpu\"))\n",
    "print(device)"
   ]
  },
  {
   "cell_type": "markdown",
   "id": "4f816930",
   "metadata": {},
   "source": [
    "The final layer of a VGG-19 CNN model, which is an FC layer (softmax), has the same number of nodes as the number of output classes in the dataset. Since the model have been pretrained on Imagenet, it have output layer of size 1000. Therefore we have to reshape the number of outputs in the last layer as the number of classes in our dataset. "
   ]
  },
  {
   "cell_type": "code",
   "execution_count": 4,
   "id": "0a0fae14",
   "metadata": {
    "ExecuteTime": {
     "end_time": "2023-01-06T22:06:32.716305Z",
     "start_time": "2023-01-06T22:06:31.463793Z"
    }
   },
   "outputs": [],
   "source": [
    "model_1 = models.vgg19(weights='VGG19_Weights.DEFAULT')\n",
    "model_1.classifier[6] = nn.Linear(4096,15)\n",
    "model_1 = model_1.to(device)"
   ]
  },
  {
   "cell_type": "code",
   "execution_count": 5,
   "id": "339d03d1",
   "metadata": {
    "ExecuteTime": {
     "end_time": "2023-01-06T22:06:32.731467Z",
     "start_time": "2023-01-06T22:06:32.718306Z"
    }
   },
   "outputs": [],
   "source": [
    "#In the VGG-19 model, the requires_grad of all parameters are True. So we can fine tune all parameters.\n",
    "#Use a Classification Cross-Entropy loss and SGD with momentum\n",
    "criterion = nn.CrossEntropyLoss()\n",
    "optimizer_1 = optim.SGD(model_1.parameters(), lr=0.001, momentum=0.9)"
   ]
  },
  {
   "cell_type": "code",
   "execution_count": 6,
   "id": "594d9721",
   "metadata": {
    "ExecuteTime": {
     "end_time": "2023-01-06T22:06:32.761656Z",
     "start_time": "2023-01-06T22:06:32.733467Z"
    }
   },
   "outputs": [],
   "source": [
    "def train_model(model, trainloader, validloader, criterion, optimizer, num_epochs=10):\n",
    "    since = time.time()\n",
    "    \n",
    "    val_acc_history = []\n",
    "    train_acc_history = []\n",
    "    val_loss_history = []\n",
    "    train_loss_history = []\n",
    "\n",
    "    best_model_wts = copy.deepcopy(model.state_dict())\n",
    "    min_loss = sys.float_info.max\n",
    "\n",
    "    for epoch in range(num_epochs):\n",
    "        print('Epoch {}/{}'.format(epoch, num_epochs - 1))\n",
    "        print('-' * 20)\n",
    "        \n",
    "        #Train part\n",
    "        model.train()\n",
    "        \n",
    "        train_loss = 0.0\n",
    "        train_corrects = 0\n",
    "        \n",
    "        # get the inputs; trainloader is a list of [inputs, labels]\n",
    "        for inputs, labels in trainloader:\n",
    "            inputs = inputs.to(device)\n",
    "            labels = labels.to(device)\n",
    "            \n",
    "            # zero the parameter gradients\n",
    "            optimizer.zero_grad()\n",
    "            \n",
    "            \n",
    "            with torch.set_grad_enabled(True):\n",
    "                 # forward \n",
    "                outputs = model(inputs)\n",
    "                loss = criterion(outputs, labels)\n",
    "\n",
    "                #The outputs are energies for the 10 classes. \n",
    "                #The higher the energy for a class, the more the network thinks that the image is of the particular class. \n",
    "                #So, let’s get the index of the highest energy:\n",
    "                _, preds = torch.max(outputs, 1)\n",
    "\n",
    "                #backward + optimize\n",
    "                loss.backward()\n",
    "                optimizer.step()\n",
    "            \n",
    "            # print statistics\n",
    "            train_loss += loss.item() * inputs.size(0)\n",
    "            train_corrects += (preds == labels).sum().item()\n",
    "        \n",
    "        epoch_loss = train_loss / len(trainloader.dataset)\n",
    "        epoch_acc = train_corrects / len(trainloader.dataset)\n",
    "        train_acc_history.append(epoch_acc)\n",
    "        train_loss_history.append(epoch_loss)\n",
    "        print('Train: Loss: {:.4f} Acc: {:.4f}'.format(epoch_loss, epoch_acc))\n",
    "        \n",
    "        \n",
    "        #Validation part\n",
    "        model.eval()\n",
    "        \n",
    "        validation_loss = 0.0\n",
    "        validation_corrects = 0\n",
    "        \n",
    "        # get the inputs; trainloader is a list of [inputs, labels]\n",
    "        for inputs, labels in validloader:\n",
    "            inputs = inputs.to(device)\n",
    "            labels = labels.to(device)\n",
    "                \n",
    "            optimizer.zero_grad()\n",
    "            # since we're not training, we don't need to calculate the gradients for our outputs\n",
    "            with torch.set_grad_enabled(False):\n",
    "                # forward \n",
    "                outputs = model(inputs)\n",
    "                loss = criterion(outputs, labels)\n",
    "                _, preds = torch.max(outputs, 1)\n",
    "                \n",
    "            # print statistics\n",
    "            validation_loss += loss.item() * inputs.size(0)\n",
    "            validation_corrects += (preds == labels).sum().item()\n",
    "            \n",
    "        epoch_loss = validation_loss / len(validloader.dataset)\n",
    "        epoch_acc = validation_corrects / len(validloader.dataset)\n",
    "        val_acc_history.append(epoch_acc)\n",
    "        val_loss_history.append(epoch_loss)\n",
    "        \n",
    "        print('Validation: Loss: {:.4f} Acc: {:.4f}'.format(epoch_loss, epoch_acc))\n",
    "        if epoch_loss < min_loss:\n",
    "                min_loss = epoch_loss\n",
    "                best_model_wts = copy.deepcopy(model.state_dict())\n",
    "                             \n",
    "    time_elapsed = time.time() - since\n",
    "    print('Training complete in {:.0f}m {:.0f}s'.format(time_elapsed // 60, time_elapsed % 60))\n",
    "    print('Min Validation Loss: {:4f}'.format(min_loss))\n",
    "\n",
    "    # load best model weights\n",
    "    model.load_state_dict(best_model_wts)\n",
    "    return model, train_acc_history, val_acc_history, train_loss_history, val_loss_history         "
   ]
  },
  {
   "cell_type": "code",
   "execution_count": 7,
   "id": "556cb08e",
   "metadata": {
    "ExecuteTime": {
     "end_time": "2023-01-06T22:06:32.777664Z",
     "start_time": "2023-01-06T22:06:32.763659Z"
    }
   },
   "outputs": [],
   "source": [
    "def test_model(testloader, model):\n",
    "    total_accuracy=0.0\n",
    "    total_recall=0.0\n",
    "    total_precision=0.0\n",
    "    total_f1=0.0\n",
    "    \n",
    "    accuracy = torchmetrics.Accuracy(task='multiclass', num_classes=15).to(device)\n",
    "    recall = torchmetrics.Recall(task=\"multiclass\", average='macro', num_classes=15).to(device)\n",
    "    precision = torchmetrics.Precision(task=\"multiclass\", average='macro', num_classes=15).to(device)\n",
    "    f1 = torchmetrics.F1Score(task=\"multiclass\",average='macro',   num_classes=15).to(device)\n",
    "    \n",
    "    # since we're not training, we don't need to calculate the gradients for our outputs\n",
    "    with torch.no_grad():\n",
    "        for inputs, labels in testloader:\n",
    "            inputs = inputs.to(device)\n",
    "            labels = labels.to(device)\n",
    "            \n",
    "            outputs = model(inputs)\n",
    "            _, preds = torch.max(outputs, 1)\n",
    "            \n",
    "            total_accuracy+=(accuracy(preds,labels).item()*inputs.size(0))\n",
    "            total_recall+=(recall(preds,labels).item()*inputs.size(0))\n",
    "            total_precision+=(precision(preds,labels).item()*inputs.size(0))\n",
    "            total_f1+=(f1(preds,labels).item()*inputs.size(0))       \n",
    "    \n",
    "    print('Accuracy: ', (total_accuracy/len(testloader.dataset)))\n",
    "    print('Recall: ', (total_recall/len(testloader.dataset)))\n",
    "    print('Precision: ', (total_precision/len(testloader.dataset)))\n",
    "    print('F1:', (total_f1/len(testloader.dataset)))"
   ]
  },
  {
   "cell_type": "code",
   "execution_count": 8,
   "id": "81d293a3",
   "metadata": {
    "ExecuteTime": {
     "end_time": "2023-01-06T22:40:54.871016Z",
     "start_time": "2023-01-06T22:06:32.779663Z"
    }
   },
   "outputs": [
    {
     "name": "stdout",
     "output_type": "stream",
     "text": [
      "Epoch 0/9\n",
      "--------------------\n",
      "Train: Loss: 0.1726 Acc: 0.9479\n",
      "Validation: Loss: 0.0079 Acc: 0.9980\n",
      "Epoch 1/9\n",
      "--------------------\n",
      "Train: Loss: 0.0139 Acc: 0.9961\n",
      "Validation: Loss: 0.0046 Acc: 0.9987\n",
      "Epoch 2/9\n",
      "--------------------\n",
      "Train: Loss: 0.0098 Acc: 0.9971\n",
      "Validation: Loss: 0.0051 Acc: 0.9993\n",
      "Epoch 3/9\n",
      "--------------------\n",
      "Train: Loss: 0.0037 Acc: 0.9989\n",
      "Validation: Loss: 0.0041 Acc: 0.9993\n",
      "Epoch 4/9\n",
      "--------------------\n",
      "Train: Loss: 0.0023 Acc: 0.9995\n",
      "Validation: Loss: 0.0040 Acc: 0.9983\n",
      "Epoch 5/9\n",
      "--------------------\n",
      "Train: Loss: 0.0029 Acc: 0.9991\n",
      "Validation: Loss: 0.0030 Acc: 0.9997\n",
      "Epoch 6/9\n",
      "--------------------\n",
      "Train: Loss: 0.0003 Acc: 1.0000\n",
      "Validation: Loss: 0.0029 Acc: 0.9997\n",
      "Epoch 7/9\n",
      "--------------------\n",
      "Train: Loss: 0.0003 Acc: 0.9999\n",
      "Validation: Loss: 0.0031 Acc: 0.9990\n",
      "Epoch 8/9\n",
      "--------------------\n",
      "Train: Loss: 0.0099 Acc: 0.9979\n",
      "Validation: Loss: 0.0052 Acc: 0.9983\n",
      "Epoch 9/9\n",
      "--------------------\n",
      "Train: Loss: 0.0005 Acc: 0.9998\n",
      "Validation: Loss: 0.0024 Acc: 0.9997\n",
      "Training complete in 34m 20s\n",
      "Min Validation Loss: 0.002434\n"
     ]
    }
   ],
   "source": [
    "# Train and evaluate\n",
    "model_1, train_acc_history, val_acc_history, train_loss_history, val_loss_history = train_model(model_1, trainloader, validloader, criterion, optimizer_1, num_epochs)\n",
    "torch.save(model_1.state_dict(), 'model1')"
   ]
  },
  {
   "cell_type": "code",
   "execution_count": 9,
   "id": "70bf59cc",
   "metadata": {
    "ExecuteTime": {
     "end_time": "2023-01-06T22:40:55.205630Z",
     "start_time": "2023-01-06T22:40:54.872016Z"
    }
   },
   "outputs": [
    {
     "data": {
      "image/png": "[encoded data removed]",
      "text/plain": [
       "<Figure size 1500x500 with 2 Axes>"
      ]
     },
     "metadata": {},
     "output_type": "display_data"
    }
   ],
   "source": [
    "plt.figure(figsize=(15,5))\n",
    "plt.subplot(1,2,1)\n",
    "plt.plot(range(1,num_epochs+1),val_loss_history,label=\"Validation loss\")\n",
    "plt.plot(range(1,num_epochs+1),train_loss_history,label=\"Train Loss\")\n",
    "plt.xticks(np.arange(1, num_epochs+1, 1.0))\n",
    "plt.xlabel(\"Training Epochs\")\n",
    "plt.ylabel(\"Loss\")\n",
    "plt.legend()\n",
    "\n",
    "plt.subplot(1,2,2)\n",
    "plt.plot(range(1,num_epochs+1),val_acc_history,label=\"Validation Accuracy\")\n",
    "plt.plot(range(1,num_epochs+1),train_acc_history,label=\"Train Accuracy\")\n",
    "plt.xlabel(\"Training Epochs\")\n",
    "plt.ylabel(\"Accuracy\")\n",
    "plt.xticks(np.arange(1, num_epochs+1, 1.0))\n",
    "plt.legend()\n",
    "\n",
    "plt.show()"
   ]
  },
  {
   "cell_type": "code",
   "execution_count": 10,
   "id": "5e358520",
   "metadata": {
    "ExecuteTime": {
     "end_time": "2023-01-06T22:41:34.309289Z",
     "start_time": "2023-01-06T22:40:55.208632Z"
    }
   },
   "outputs": [
    {
     "name": "stdout",
     "output_type": "stream",
     "text": [
      "Accuracy:  0.9993333333333333\n",
      "Recall:  0.910163012822469\n",
      "Precision:  0.9103407910664876\n",
      "F1: 0.910191795984904\n"
     ]
    }
   ],
   "source": [
    "test_model(testloader, model_1)"
   ]
  },
  {
   "cell_type": "markdown",
   "id": "1491ab5e",
   "metadata": {},
   "source": [
    "# PART 2.2"
   ]
  },
  {
   "cell_type": "markdown",
   "id": "cc1b9ece",
   "metadata": {},
   "source": [
    "For this part, we will finetune the weights of only two last fully connected (FC1 and FC2) layers in the VGG-19 network."
   ]
  },
  {
   "cell_type": "code",
   "execution_count": 11,
   "id": "86ba8130",
   "metadata": {
    "ExecuteTime": {
     "end_time": "2023-01-06T22:41:35.549616Z",
     "start_time": "2023-01-06T22:41:34.311290Z"
    }
   },
   "outputs": [],
   "source": [
    "model_2 = models.vgg19(weights='VGG19_Weights.DEFAULT')"
   ]
  },
  {
   "cell_type": "code",
   "execution_count": 12,
   "id": "80e3d7e1",
   "metadata": {
    "ExecuteTime": {
     "end_time": "2023-01-06T22:41:35.677153Z",
     "start_time": "2023-01-06T22:41:35.551616Z"
    }
   },
   "outputs": [],
   "source": [
    "model_2.classifier[6] = nn.Linear(4096,15)\n",
    "model_2 = model_2.to(device)"
   ]
  },
  {
   "cell_type": "code",
   "execution_count": 13,
   "id": "355a2358",
   "metadata": {
    "ExecuteTime": {
     "end_time": "2023-01-06T22:41:35.693157Z",
     "start_time": "2023-01-06T22:41:35.679153Z"
    }
   },
   "outputs": [
    {
     "name": "stdout",
     "output_type": "stream",
     "text": [
      "features.0.weight False\n",
      "features.0.bias False\n",
      "features.2.weight False\n",
      "features.2.bias False\n",
      "features.5.weight False\n",
      "features.5.bias False\n",
      "features.7.weight False\n",
      "features.7.bias False\n",
      "features.10.weight False\n",
      "features.10.bias False\n",
      "features.12.weight False\n",
      "features.12.bias False\n",
      "features.14.weight False\n",
      "features.14.bias False\n",
      "features.16.weight False\n",
      "features.16.bias False\n",
      "features.19.weight False\n",
      "features.19.bias False\n",
      "features.21.weight False\n",
      "features.21.bias False\n",
      "features.23.weight False\n",
      "features.23.bias False\n",
      "features.25.weight False\n",
      "features.25.bias False\n",
      "features.28.weight False\n",
      "features.28.bias False\n",
      "features.30.weight False\n",
      "features.30.bias False\n",
      "features.32.weight False\n",
      "features.32.bias False\n",
      "features.34.weight False\n",
      "features.34.bias False\n",
      "classifier.0.weight True\n",
      "classifier.0.bias True\n",
      "classifier.3.weight True\n",
      "classifier.3.bias True\n",
      "classifier.6.weight False\n",
      "classifier.6.bias False\n"
     ]
    }
   ],
   "source": [
    "# requires_grad of all parameters except FC1 and FC2 must be False. \n",
    "for name, param in model_2.named_parameters():\n",
    "    if (\"classifier.0\" in name or \"classifier.3\" in name):\n",
    "        param.requires_grad=True\n",
    "    else:\n",
    "        param.requires_grad=False\n",
    "    print(name, param.requires_grad)"
   ]
  },
  {
   "cell_type": "code",
   "execution_count": 14,
   "id": "c885b806",
   "metadata": {
    "ExecuteTime": {
     "end_time": "2023-01-06T22:41:35.709160Z",
     "start_time": "2023-01-06T22:41:35.696159Z"
    }
   },
   "outputs": [],
   "source": [
    "# Observe that all parameters are being optimized\n",
    "optimizer_2 = optim.SGD(model_2.parameters(), lr=0.001, momentum=0.9)"
   ]
  },
  {
   "cell_type": "code",
   "execution_count": 15,
   "id": "901ee399",
   "metadata": {
    "ExecuteTime": {
     "end_time": "2023-01-06T22:56:51.698963Z",
     "start_time": "2023-01-06T22:41:35.711161Z"
    },
    "scrolled": false
   },
   "outputs": [
    {
     "name": "stdout",
     "output_type": "stream",
     "text": [
      "Epoch 0/9\n",
      "--------------------\n",
      "Train: Loss: 0.7403 Acc: 0.8216\n",
      "Validation: Loss: 0.1329 Acc: 0.9770\n",
      "Epoch 1/9\n",
      "--------------------\n",
      "Train: Loss: 0.1457 Acc: 0.9655\n",
      "Validation: Loss: 0.0645 Acc: 0.9863\n",
      "Epoch 2/9\n",
      "--------------------\n",
      "Train: Loss: 0.0890 Acc: 0.9801\n",
      "Validation: Loss: 0.0475 Acc: 0.9900\n",
      "Epoch 3/9\n",
      "--------------------\n",
      "Train: Loss: 0.0608 Acc: 0.9868\n",
      "Validation: Loss: 0.0359 Acc: 0.9917\n",
      "Epoch 4/9\n",
      "--------------------\n",
      "Train: Loss: 0.0464 Acc: 0.9903\n",
      "Validation: Loss: 0.0295 Acc: 0.9927\n",
      "Epoch 5/9\n",
      "--------------------\n",
      "Train: Loss: 0.0361 Acc: 0.9933\n",
      "Validation: Loss: 0.0262 Acc: 0.9927\n",
      "Epoch 6/9\n",
      "--------------------\n",
      "Train: Loss: 0.0318 Acc: 0.9937\n",
      "Validation: Loss: 0.0241 Acc: 0.9937\n",
      "Epoch 7/9\n",
      "--------------------\n",
      "Train: Loss: 0.0263 Acc: 0.9955\n",
      "Validation: Loss: 0.0218 Acc: 0.9940\n",
      "Epoch 8/9\n",
      "--------------------\n",
      "Train: Loss: 0.0233 Acc: 0.9955\n",
      "Validation: Loss: 0.0201 Acc: 0.9947\n",
      "Epoch 9/9\n",
      "--------------------\n",
      "Train: Loss: 0.0196 Acc: 0.9967\n",
      "Validation: Loss: 0.0190 Acc: 0.9943\n",
      "Training complete in 15m 14s\n",
      "Min Validation Loss: 0.019003\n"
     ]
    }
   ],
   "source": [
    "# Setup the loss fxn\n",
    "criterion = nn.CrossEntropyLoss()\n",
    "\n",
    "# Train and evaluate\n",
    "model_2, train_acc_history, val_acc_history, train_loss_history, val_loss_history = train_model(model_2, trainloader, validloader, criterion, optimizer_2, num_epochs)\n",
    "torch.save(model_1.state_dict(), 'model2')"
   ]
  },
  {
   "cell_type": "code",
   "execution_count": 16,
   "id": "97f5747d",
   "metadata": {
    "ExecuteTime": {
     "end_time": "2023-01-06T22:56:52.002561Z",
     "start_time": "2023-01-06T22:56:51.700962Z"
    }
   },
   "outputs": [
    {
     "data": {
      "image/png": "[encoded data removed]",
      "text/plain": [
       "<Figure size 1500x500 with 2 Axes>"
      ]
     },
     "metadata": {},
     "output_type": "display_data"
    }
   ],
   "source": [
    "plt.figure(figsize=(15,5))\n",
    "plt.subplot(1,2,1)\n",
    "plt.plot(range(1,num_epochs+1),val_loss_history,label=\"Validation loss\")\n",
    "plt.plot(range(1,num_epochs+1),train_loss_history,label=\"Train Loss\")\n",
    "plt.xticks(np.arange(1, num_epochs+1, 1.0))\n",
    "plt.xlabel(\"Training Epochs\")\n",
    "plt.ylabel(\"Loss\")\n",
    "plt.legend()\n",
    "\n",
    "plt.subplot(1,2,2)\n",
    "plt.plot(range(1,num_epochs+1),val_acc_history,label=\"Validation Accuracy\")\n",
    "plt.plot(range(1,num_epochs+1),train_acc_history,label=\"Train Accuracy\")\n",
    "plt.xlabel(\"Training Epochs\")\n",
    "plt.ylabel(\"Accuracy\")\n",
    "\n",
    "plt.xticks(np.arange(1, num_epochs+1, 1.0))\n",
    "plt.legend()\n",
    "\n",
    "plt.show()"
   ]
  },
  {
   "cell_type": "code",
   "execution_count": 17,
   "id": "887e711c",
   "metadata": {
    "ExecuteTime": {
     "end_time": "2023-01-06T22:57:06.846173Z",
     "start_time": "2023-01-06T22:56:52.003562Z"
    }
   },
   "outputs": [
    {
     "name": "stdout",
     "output_type": "stream",
     "text": [
      "Accuracy:  0.997\n",
      "Recall:  0.8962726475397745\n",
      "Precision:  0.8966519066492716\n",
      "F1: 0.896083581606547\n"
     ]
    }
   ],
   "source": [
    "test_model(testloader, model_2)"
   ]
  },
  {
   "cell_type": "markdown",
   "id": "8466314c",
   "metadata": {},
   "source": [
    "When we compare our neural network and vgg19, it is seen that vgg19 performs much better when looking at the accuracy precision recall and f1 values. Convolutional neural networks (CNN) are well-suited for image processing tasks because they are able to features from input data. It contains convolutional layers that apply a set of learnable filters to the input data and are designed to detect a particular pattern or feature in the data."
   ]
  },
  {
   "cell_type": "code",
   "execution_count": null,
   "id": "c7a9a38a",
   "metadata": {},
   "outputs": [],
   "source": []
  }
 ],
 "metadata": {
  "kernelspec": {
   "display_name": "Python 3",
   "language": "python",
   "name": "python3"
  },
  "language_info": {
   "codemirror_mode": {
    "name": "ipython",
    "version": 3
   },
   "file_extension": ".py",
   "mimetype": "text/x-python",
   "name": "python",
   "nbconvert_exporter": "python",
   "pygments_lexer": "ipython3",
   "version": "3.9.15"
  },
  "toc": {
   "base_numbering": 1,
   "nav_menu": {},
   "number_sections": true,
   "sideBar": true,
   "skip_h1_title": false,
   "title_cell": "Table of Contents",
   "title_sidebar": "Contents",
   "toc_cell": false,
   "toc_position": {
    "height": "calc(100% - 180px)",
    "left": "10px",
    "top": "150px",
    "width": "360px"
   },
   "toc_section_display": true,
   "toc_window_display": false
  }
 },
 "nbformat": 4,
 "nbformat_minor": 5
}
